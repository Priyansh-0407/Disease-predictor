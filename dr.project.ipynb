{
 "cells": [
  {
   "cell_type": "markdown",
   "metadata": {},
   "source": [
    "# Disease Prediction based on Symtoms"
   ]
  },
  {
   "cell_type": "code",
   "execution_count": 1,
   "metadata": {},
   "outputs": [],
   "source": [
    "#Importing Libraries\n",
    "from mpl_toolkits.mplot3d import Axes3D\n",
    "from sklearn.preprocessing import StandardScaler\n",
    "import matplotlib.pyplot as plt\n",
    "from tkinter import *\n",
    "import numpy as np\n",
    "import pandas as pd\n",
    "import os"
   ]
  },
  {
   "cell_type": "code",
   "execution_count": 2,
   "metadata": {},
   "outputs": [],
   "source": [
    "#List of the symptoms is listed here in list l1.\n",
    "\n",
    "l1=['back_pain','constipation','abdominal_pain','diarrhoea','mild_fever','yellow_urine',\n",
    "    'yellowing_of_eyes','acute_liver_failure','fluid_overload','swelling_of_stomach',\n",
    "    'swelled_lymph_nodes','malaise','blurred_and_distorted_vision','phlegm','throat_irritation',\n",
    "    'redness_of_eyes','sinus_pressure','runny_nose','congestion','chest_pain','weakness_in_limbs',\n",
    "    'fast_heart_rate','pain_during_bowel_movements','pain_in_anal_region','bloody_stool',\n",
    "    'irritation_in_anus','neck_pain','dizziness','cramps','bruising','obesity','swollen_legs',\n",
    "    'swollen_blood_vessels','puffy_face_and_eyes','enlarged_thyroid','brittle_nails',\n",
    "    'swollen_extremeties','excessive_hunger','extra_marital_contacts','drying_and_tingling_lips',\n",
    "    'slurred_speech','knee_pain','hip_joint_pain','muscle_weakness','stiff_neck','swelling_joints',\n",
    "    'movement_stiffness','spinning_movements','loss_of_balance','unsteadiness',\n",
    "    'weakness_of_one_body_side','loss_of_smell','bladder_discomfort','foul_smell_of urine',\n",
    "    'continuous_feel_of_urine','passage_of_gases','internal_itching','toxic_look_(typhos)',\n",
    "    'depression','irritability','muscle_pain','altered_sensorium','red_spots_over_body','belly_pain',\n",
    "    'abnormal_menstruation','dischromic _patches','watering_from_eyes','increased_appetite','polyuria','family_history','mucoid_sputum',\n",
    "    'rusty_sputum','lack_of_concentration','visual_disturbances','receiving_blood_transfusion',\n",
    "    'receiving_unsterile_injections','coma','stomach_bleeding','distention_of_abdomen',\n",
    "    'history_of_alcohol_consumption','fluid_overload','blood_in_sputum','prominent_veins_on_calf',\n",
    "    'palpitations','painful_walking','pus_filled_pimples','blackheads','scurring','skin_peeling',\n",
    "    'silver_like_dusting','small_dents_in_nails','inflammatory_nails','blister','red_sore_around_nose',\n",
    "    'yellow_crust_ooze']"
   ]
  },
  {
   "cell_type": "code",
   "execution_count": 3,
   "metadata": {},
   "outputs": [],
   "source": [
    "#List of Diseases is listed in list disease.\n",
    "\n",
    "disease=['Fungal infection', 'Allergy', 'GERD', 'Chronic cholestasis',\n",
    "       'Drug Reaction', 'Peptic ulcer diseae', 'AIDS', 'Diabetes ',\n",
    "       'Gastroenteritis', 'Bronchial Asthma', 'Hypertension ', 'Migraine',\n",
    "       'Cervical spondylosis', 'Paralysis (brain hemorrhage)', 'Jaundice',\n",
    "       'Malaria', 'Chicken pox', 'Dengue', 'Typhoid', 'hepatitis A',\n",
    "       'Hepatitis B', 'Hepatitis C', 'Hepatitis D', 'Hepatitis E',\n",
    "       'Alcoholic hepatitis', 'Tuberculosis', 'Common Cold', 'Pneumonia',\n",
    "       'Dimorphic hemmorhoids(piles)', 'Heart attack', 'Varicose veins',\n",
    "       'Hypothyroidism', 'Hyperthyroidism', 'Hypoglycemia',\n",
    "       'Osteoarthristis', 'Arthritis',\n",
    "       '(vertigo) Paroymsal  Positional Vertigo', 'Acne',\n",
    "       'Urinary tract infection', 'Psoriasis', 'Impetigo']\n",
    "\n",
    "#disease = [df['prognosis'].unique()]\n",
    "#print(disease)"
   ]
  },
  {
   "cell_type": "code",
   "execution_count": 4,
   "metadata": {
    "scrolled": true
   },
   "outputs": [
    {
     "name": "stdout",
     "output_type": "stream",
     "text": [
      "[0, 0, 0, 0, 0, 0, 0, 0, 0, 0, 0, 0, 0, 0, 0, 0, 0, 0, 0, 0, 0, 0, 0, 0, 0, 0, 0, 0, 0, 0, 0, 0, 0, 0, 0, 0, 0, 0, 0, 0, 0, 0, 0, 0, 0, 0, 0, 0, 0, 0, 0, 0, 0, 0, 0, 0, 0, 0, 0, 0, 0, 0, 0, 0, 0, 0, 0, 0, 0, 0, 0, 0, 0, 0, 0, 0, 0, 0, 0, 0, 0, 0, 0, 0, 0, 0, 0, 0, 0, 0, 0, 0, 0, 0, 0]\n"
     ]
    }
   ],
   "source": [
    "l2=[]\n",
    "for i in range(0,len(l1)):\n",
    "    l2.append(0)\n",
    "print(l2)"
   ]
  },
  {
   "cell_type": "code",
   "execution_count": 5,
   "metadata": {},
   "outputs": [
    {
     "data": {
      "text/html": [
       "<div>\n",
       "<style scoped>\n",
       "    .dataframe tbody tr th:only-of-type {\n",
       "        vertical-align: middle;\n",
       "    }\n",
       "\n",
       "    .dataframe tbody tr th {\n",
       "        vertical-align: top;\n",
       "    }\n",
       "\n",
       "    .dataframe thead th {\n",
       "        text-align: right;\n",
       "    }\n",
       "</style>\n",
       "<table border=\"1\" class=\"dataframe\">\n",
       "  <thead>\n",
       "    <tr style=\"text-align: right;\">\n",
       "      <th></th>\n",
       "      <th>itching</th>\n",
       "      <th>skin_rash</th>\n",
       "      <th>nodal_skin_eruptions</th>\n",
       "      <th>continuous_sneezing</th>\n",
       "      <th>shivering</th>\n",
       "      <th>chills</th>\n",
       "      <th>joint_pain</th>\n",
       "      <th>stomach_pain</th>\n",
       "      <th>acidity</th>\n",
       "      <th>ulcers_on_tongue</th>\n",
       "      <th>...</th>\n",
       "      <th>pus_filled_pimples</th>\n",
       "      <th>blackheads</th>\n",
       "      <th>scurring</th>\n",
       "      <th>skin_peeling</th>\n",
       "      <th>silver_like_dusting</th>\n",
       "      <th>small_dents_in_nails</th>\n",
       "      <th>inflammatory_nails</th>\n",
       "      <th>blister</th>\n",
       "      <th>red_sore_around_nose</th>\n",
       "      <th>yellow_crust_ooze</th>\n",
       "    </tr>\n",
       "    <tr>\n",
       "      <th>prognosis</th>\n",
       "      <th></th>\n",
       "      <th></th>\n",
       "      <th></th>\n",
       "      <th></th>\n",
       "      <th></th>\n",
       "      <th></th>\n",
       "      <th></th>\n",
       "      <th></th>\n",
       "      <th></th>\n",
       "      <th></th>\n",
       "      <th></th>\n",
       "      <th></th>\n",
       "      <th></th>\n",
       "      <th></th>\n",
       "      <th></th>\n",
       "      <th></th>\n",
       "      <th></th>\n",
       "      <th></th>\n",
       "      <th></th>\n",
       "      <th></th>\n",
       "      <th></th>\n",
       "    </tr>\n",
       "  </thead>\n",
       "  <tbody>\n",
       "    <tr>\n",
       "      <th>Fungal infection</th>\n",
       "      <td>1</td>\n",
       "      <td>1</td>\n",
       "      <td>1</td>\n",
       "      <td>0</td>\n",
       "      <td>0</td>\n",
       "      <td>0</td>\n",
       "      <td>0</td>\n",
       "      <td>0</td>\n",
       "      <td>0</td>\n",
       "      <td>0</td>\n",
       "      <td>...</td>\n",
       "      <td>0</td>\n",
       "      <td>0</td>\n",
       "      <td>0</td>\n",
       "      <td>0</td>\n",
       "      <td>0</td>\n",
       "      <td>0</td>\n",
       "      <td>0</td>\n",
       "      <td>0</td>\n",
       "      <td>0</td>\n",
       "      <td>0</td>\n",
       "    </tr>\n",
       "    <tr>\n",
       "      <th>Fungal infection</th>\n",
       "      <td>0</td>\n",
       "      <td>1</td>\n",
       "      <td>1</td>\n",
       "      <td>0</td>\n",
       "      <td>0</td>\n",
       "      <td>0</td>\n",
       "      <td>0</td>\n",
       "      <td>0</td>\n",
       "      <td>0</td>\n",
       "      <td>0</td>\n",
       "      <td>...</td>\n",
       "      <td>0</td>\n",
       "      <td>0</td>\n",
       "      <td>0</td>\n",
       "      <td>0</td>\n",
       "      <td>0</td>\n",
       "      <td>0</td>\n",
       "      <td>0</td>\n",
       "      <td>0</td>\n",
       "      <td>0</td>\n",
       "      <td>0</td>\n",
       "    </tr>\n",
       "    <tr>\n",
       "      <th>Fungal infection</th>\n",
       "      <td>1</td>\n",
       "      <td>0</td>\n",
       "      <td>1</td>\n",
       "      <td>0</td>\n",
       "      <td>0</td>\n",
       "      <td>0</td>\n",
       "      <td>0</td>\n",
       "      <td>0</td>\n",
       "      <td>0</td>\n",
       "      <td>0</td>\n",
       "      <td>...</td>\n",
       "      <td>0</td>\n",
       "      <td>0</td>\n",
       "      <td>0</td>\n",
       "      <td>0</td>\n",
       "      <td>0</td>\n",
       "      <td>0</td>\n",
       "      <td>0</td>\n",
       "      <td>0</td>\n",
       "      <td>0</td>\n",
       "      <td>0</td>\n",
       "    </tr>\n",
       "    <tr>\n",
       "      <th>Fungal infection</th>\n",
       "      <td>1</td>\n",
       "      <td>1</td>\n",
       "      <td>0</td>\n",
       "      <td>0</td>\n",
       "      <td>0</td>\n",
       "      <td>0</td>\n",
       "      <td>0</td>\n",
       "      <td>0</td>\n",
       "      <td>0</td>\n",
       "      <td>0</td>\n",
       "      <td>...</td>\n",
       "      <td>0</td>\n",
       "      <td>0</td>\n",
       "      <td>0</td>\n",
       "      <td>0</td>\n",
       "      <td>0</td>\n",
       "      <td>0</td>\n",
       "      <td>0</td>\n",
       "      <td>0</td>\n",
       "      <td>0</td>\n",
       "      <td>0</td>\n",
       "    </tr>\n",
       "    <tr>\n",
       "      <th>Fungal infection</th>\n",
       "      <td>1</td>\n",
       "      <td>1</td>\n",
       "      <td>1</td>\n",
       "      <td>0</td>\n",
       "      <td>0</td>\n",
       "      <td>0</td>\n",
       "      <td>0</td>\n",
       "      <td>0</td>\n",
       "      <td>0</td>\n",
       "      <td>0</td>\n",
       "      <td>...</td>\n",
       "      <td>0</td>\n",
       "      <td>0</td>\n",
       "      <td>0</td>\n",
       "      <td>0</td>\n",
       "      <td>0</td>\n",
       "      <td>0</td>\n",
       "      <td>0</td>\n",
       "      <td>0</td>\n",
       "      <td>0</td>\n",
       "      <td>0</td>\n",
       "    </tr>\n",
       "  </tbody>\n",
       "</table>\n",
       "<p>5 rows × 132 columns</p>\n",
       "</div>"
      ],
      "text/plain": [
       "                  itching  skin_rash  nodal_skin_eruptions  \\\n",
       "prognosis                                                    \n",
       "Fungal infection        1          1                     1   \n",
       "Fungal infection        0          1                     1   \n",
       "Fungal infection        1          0                     1   \n",
       "Fungal infection        1          1                     0   \n",
       "Fungal infection        1          1                     1   \n",
       "\n",
       "                  continuous_sneezing  shivering  chills  joint_pain  \\\n",
       "prognosis                                                              \n",
       "Fungal infection                    0          0       0           0   \n",
       "Fungal infection                    0          0       0           0   \n",
       "Fungal infection                    0          0       0           0   \n",
       "Fungal infection                    0          0       0           0   \n",
       "Fungal infection                    0          0       0           0   \n",
       "\n",
       "                  stomach_pain  acidity  ulcers_on_tongue  ...  \\\n",
       "prognosis                                                  ...   \n",
       "Fungal infection             0        0                 0  ...   \n",
       "Fungal infection             0        0                 0  ...   \n",
       "Fungal infection             0        0                 0  ...   \n",
       "Fungal infection             0        0                 0  ...   \n",
       "Fungal infection             0        0                 0  ...   \n",
       "\n",
       "                  pus_filled_pimples  blackheads  scurring  skin_peeling  \\\n",
       "prognosis                                                                  \n",
       "Fungal infection                   0           0         0             0   \n",
       "Fungal infection                   0           0         0             0   \n",
       "Fungal infection                   0           0         0             0   \n",
       "Fungal infection                   0           0         0             0   \n",
       "Fungal infection                   0           0         0             0   \n",
       "\n",
       "                  silver_like_dusting  small_dents_in_nails  \\\n",
       "prognosis                                                     \n",
       "Fungal infection                    0                     0   \n",
       "Fungal infection                    0                     0   \n",
       "Fungal infection                    0                     0   \n",
       "Fungal infection                    0                     0   \n",
       "Fungal infection                    0                     0   \n",
       "\n",
       "                  inflammatory_nails  blister  red_sore_around_nose  \\\n",
       "prognosis                                                             \n",
       "Fungal infection                   0        0                     0   \n",
       "Fungal infection                   0        0                     0   \n",
       "Fungal infection                   0        0                     0   \n",
       "Fungal infection                   0        0                     0   \n",
       "Fungal infection                   0        0                     0   \n",
       "\n",
       "                  yellow_crust_ooze  \n",
       "prognosis                            \n",
       "Fungal infection                  0  \n",
       "Fungal infection                  0  \n",
       "Fungal infection                  0  \n",
       "Fungal infection                  0  \n",
       "Fungal infection                  0  \n",
       "\n",
       "[5 rows x 132 columns]"
      ]
     },
     "execution_count": 5,
     "metadata": {},
     "output_type": "execute_result"
    }
   ],
   "source": [
    "#Reading the training .csv file\n",
    "df=pd.read_csv(\"training.csv\")\n",
    "DF= pd.read_csv('training.csv', index_col='prognosis')\n",
    "#Replace the values in the imported file by pandas by the inbuilt function replace in pandas.\n",
    "\n",
    "df.replace({'prognosis':{'Fungal infection':0,'Allergy':1,'GERD':2,'Chronic cholestasis':3,'Drug Reaction':4,\n",
    "    'Peptic ulcer diseae':5,'AIDS':6,'Diabetes ':7,'Gastroenteritis':8,'Bronchial Asthma':9,'Hypertension ':10,\n",
    "    'Migraine':11,'Cervical spondylosis':12,\n",
    "    'Paralysis (brain hemorrhage)':13,'Jaundice':14,'Malaria':15,'Chicken pox':16,'Dengue':17,'Typhoid':18,'hepatitis A':19,\n",
    "    'Hepatitis B':20,'Hepatitis C':21,'Hepatitis D':22,'Hepatitis E':23,'Alcoholic hepatitis':24,'Tuberculosis':25,\n",
    "    'Common Cold':26,'Pneumonia':27,'Dimorphic hemmorhoids(piles)':28,'Heart attack':29,'Varicose veins':30,'Hypothyroidism':31,\n",
    "    'Hyperthyroidism':32,'Hypoglycemia':33,'Osteoarthristis':34,'Arthritis':35,\n",
    "    '(vertigo) Paroymsal  Positional Vertigo':36,'Acne':37,'Urinary tract infection':38,'Psoriasis':39,\n",
    "    'Impetigo':40}},inplace=True)\n",
    "#df.head()\n",
    "DF.head()"
   ]
  },
  {
   "cell_type": "code",
   "execution_count": 6,
   "metadata": {},
   "outputs": [],
   "source": [
    "# Distribution graphs (histogram/bar graph) of column data\n",
    "def plotPerColumnDistribution(df1, nGraphShown, nGraphPerRow):\n",
    "    nunique = df1.nunique()\n",
    "    df1 = df1[[col for col in df if nunique[col] > 1 and nunique[col] < 50]] # For displaying purposes, pick columns that have between 1 and 50 unique values\n",
    "    nRow, nCol = df1.shape\n",
    "    columnNames = list(df1)\n",
    "    nGraphRow = (nCol + nGraphPerRow - 1) / nGraphPerRow\n",
    "    plt.figure(num = None, figsize = (6 * nGraphPerRow, 8 * nGraphRow), dpi = 80, facecolor = 'w', edgecolor = 'k')\n",
    "    for i in range(min(nCol, nGraphShown)):\n",
    "        plt.subplot(nGraphRow, nGraphPerRow, i + 1)\n",
    "        columnDf = df.iloc[:, i]\n",
    "        if (not np.issubdtype(type(columnDf.iloc[0]), np.number)):\n",
    "            valueCounts = columnDf.value_counts()\n",
    "            valueCounts.plot.bar()\n",
    "        else:\n",
    "            columnDf.hist()\n",
    "        plt.ylabel('counts')\n",
    "        plt.xticks(rotation = 90)\n",
    "        plt.title(f'{columnNames[i]} (column {i})')\n",
    "    plt.tight_layout(pad = 1.0, w_pad = 1.0, h_pad = 1.0)\n",
    "    plt.show()"
   ]
  },
  {
   "cell_type": "code",
   "execution_count": 7,
   "metadata": {},
   "outputs": [],
   "source": [
    "# Scatter and density plots\n",
    "def plotScatterMatrix(df1, plotSize, textSize):\n",
    "    df1 = df1.select_dtypes(include =[np.number]) # keep only numerical columns\n",
    "    # Remove rows and columns that would lead to df being singular\n",
    "    df1 = df1.dropna('columns')\n",
    "    df1 = df1[[col for col in df if df[col].nunique() > 1]] # keep columns where there are more than 1 unique values\n",
    "    columnNames = list(df)\n",
    "    if len(columnNames) > 10: # reduce the number of columns for matrix inversion of kernel density plots\n",
    "        columnNames = columnNames[:10]\n",
    "    df1 = df1[columnNames]\n",
    "    ax = pd.plotting.scatter_matrix(df1, alpha=0.75, figsize=[plotSize, plotSize], diagonal='kde')\n",
    "    corrs = df1.corr().values\n",
    "    for i, j in zip(*plt.np.triu_indices_from(ax, k = 1)):\n",
    "        ax[i, j].annotate('Corr. coef = %.3f' % corrs[i, j], (0.8, 0.2), xycoords='axes fraction', ha='center', va='center', size=textSize)\n",
    "    plt.suptitle('Scatter and Density Plot')\n",
    "    plt.show()\n"
   ]
  },
  {
   "cell_type": "code",
   "execution_count": null,
   "metadata": {},
   "outputs": [],
   "source": []
  },
  {
   "cell_type": "code",
   "execution_count": 8,
   "metadata": {},
   "outputs": [
    {
     "name": "stderr",
     "output_type": "stream",
     "text": [
      "/var/folders/dj/ygrtrdfn6lzb0gq99mryhs0m0000gn/T/ipykernel_72984/1054018292.py:5: FutureWarning: In a future version of pandas all arguments of DataFrame.dropna will be keyword-only.\n",
      "  df1 = df1.dropna('columns')\n"
     ]
    },
    {
     "data": {
      "image/png": "[encoded data removed]",
      "text/plain": [
       "<Figure size 1440x1440 with 100 Axes>"
      ]
     },
     "metadata": {
      "needs_background": "light"
     },
     "output_type": "display_data"
    }
   ],
   "source": [
    "plotScatterMatrix(df, 20, 10)"
   ]
  },
  {
   "cell_type": "code",
   "execution_count": 9,
   "metadata": {},
   "outputs": [
    {
     "name": "stdout",
     "output_type": "stream",
     "text": [
      "      back_pain  constipation  abdominal_pain  diarrhoea  mild_fever  \\\n",
      "0             0             0               0          0           0   \n",
      "1             0             0               0          0           0   \n",
      "2             0             0               0          0           0   \n",
      "3             0             0               0          0           0   \n",
      "4             0             0               0          0           0   \n",
      "...         ...           ...             ...        ...         ...   \n",
      "4915          0             0               0          0           0   \n",
      "4916          0             0               0          0           0   \n",
      "4917          0             0               0          0           0   \n",
      "4918          0             0               0          0           0   \n",
      "4919          0             0               0          0           0   \n",
      "\n",
      "      yellow_urine  yellowing_of_eyes  acute_liver_failure  fluid_overload  \\\n",
      "0                0                  0                    0               0   \n",
      "1                0                  0                    0               0   \n",
      "2                0                  0                    0               0   \n",
      "3                0                  0                    0               0   \n",
      "4                0                  0                    0               0   \n",
      "...            ...                ...                  ...             ...   \n",
      "4915             0                  0                    0               0   \n",
      "4916             0                  0                    0               0   \n",
      "4917             0                  0                    0               0   \n",
      "4918             0                  0                    0               0   \n",
      "4919             0                  0                    0               0   \n",
      "\n",
      "      swelling_of_stomach  ...  pus_filled_pimples  blackheads  scurring  \\\n",
      "0                       0  ...                   0           0         0   \n",
      "1                       0  ...                   0           0         0   \n",
      "2                       0  ...                   0           0         0   \n",
      "3                       0  ...                   0           0         0   \n",
      "4                       0  ...                   0           0         0   \n",
      "...                   ...  ...                 ...         ...       ...   \n",
      "4915                    0  ...                   0           0         0   \n",
      "4916                    0  ...                   1           1         1   \n",
      "4917                    0  ...                   0           0         0   \n",
      "4918                    0  ...                   0           0         0   \n",
      "4919                    0  ...                   0           0         0   \n",
      "\n",
      "      skin_peeling  silver_like_dusting  small_dents_in_nails  \\\n",
      "0                0                    0                     0   \n",
      "1                0                    0                     0   \n",
      "2                0                    0                     0   \n",
      "3                0                    0                     0   \n",
      "4                0                    0                     0   \n",
      "...            ...                  ...                   ...   \n",
      "4915             0                    0                     0   \n",
      "4916             0                    0                     0   \n",
      "4917             0                    0                     0   \n",
      "4918             1                    1                     1   \n",
      "4919             0                    0                     0   \n",
      "\n",
      "      inflammatory_nails  blister  red_sore_around_nose  yellow_crust_ooze  \n",
      "0                      0        0                     0                  0  \n",
      "1                      0        0                     0                  0  \n",
      "2                      0        0                     0                  0  \n",
      "3                      0        0                     0                  0  \n",
      "4                      0        0                     0                  0  \n",
      "...                  ...      ...                   ...                ...  \n",
      "4915                   0        0                     0                  0  \n",
      "4916                   0        0                     0                  0  \n",
      "4917                   0        0                     0                  0  \n",
      "4918                   1        0                     0                  0  \n",
      "4919                   0        1                     1                  1  \n",
      "\n",
      "[4920 rows x 95 columns]\n"
     ]
    }
   ],
   "source": [
    "X= df[l1]\n",
    "y = df[[\"prognosis\"]]\n",
    "np.ravel(y)\n",
    "print(X)"
   ]
  },
  {
   "cell_type": "code",
   "execution_count": 10,
   "metadata": {},
   "outputs": [
    {
     "name": "stdout",
     "output_type": "stream",
     "text": [
      "      prognosis\n",
      "0             0\n",
      "1             0\n",
      "2             0\n",
      "3             0\n",
      "4             0\n",
      "...         ...\n",
      "4915         36\n",
      "4916         37\n",
      "4917         38\n",
      "4918         39\n",
      "4919         40\n",
      "\n",
      "[4920 rows x 1 columns]\n"
     ]
    }
   ],
   "source": [
    "print(y)"
   ]
  },
  {
   "cell_type": "code",
   "execution_count": 11,
   "metadata": {},
   "outputs": [
    {
     "data": {
      "text/html": [
       "<div>\n",
       "<style scoped>\n",
       "    .dataframe tbody tr th:only-of-type {\n",
       "        vertical-align: middle;\n",
       "    }\n",
       "\n",
       "    .dataframe tbody tr th {\n",
       "        vertical-align: top;\n",
       "    }\n",
       "\n",
       "    .dataframe thead th {\n",
       "        text-align: right;\n",
       "    }\n",
       "</style>\n",
       "<table border=\"1\" class=\"dataframe\">\n",
       "  <thead>\n",
       "    <tr style=\"text-align: right;\">\n",
       "      <th></th>\n",
       "      <th>itching</th>\n",
       "      <th>skin_rash</th>\n",
       "      <th>nodal_skin_eruptions</th>\n",
       "      <th>continuous_sneezing</th>\n",
       "      <th>shivering</th>\n",
       "      <th>chills</th>\n",
       "      <th>joint_pain</th>\n",
       "      <th>stomach_pain</th>\n",
       "      <th>acidity</th>\n",
       "      <th>ulcers_on_tongue</th>\n",
       "      <th>...</th>\n",
       "      <th>blackheads</th>\n",
       "      <th>scurring</th>\n",
       "      <th>skin_peeling</th>\n",
       "      <th>silver_like_dusting</th>\n",
       "      <th>small_dents_in_nails</th>\n",
       "      <th>inflammatory_nails</th>\n",
       "      <th>blister</th>\n",
       "      <th>red_sore_around_nose</th>\n",
       "      <th>yellow_crust_ooze</th>\n",
       "      <th>prognosis</th>\n",
       "    </tr>\n",
       "  </thead>\n",
       "  <tbody>\n",
       "    <tr>\n",
       "      <th>0</th>\n",
       "      <td>1</td>\n",
       "      <td>1</td>\n",
       "      <td>1</td>\n",
       "      <td>0</td>\n",
       "      <td>0</td>\n",
       "      <td>0</td>\n",
       "      <td>0</td>\n",
       "      <td>0</td>\n",
       "      <td>0</td>\n",
       "      <td>0</td>\n",
       "      <td>...</td>\n",
       "      <td>0</td>\n",
       "      <td>0</td>\n",
       "      <td>0</td>\n",
       "      <td>0</td>\n",
       "      <td>0</td>\n",
       "      <td>0</td>\n",
       "      <td>0</td>\n",
       "      <td>0</td>\n",
       "      <td>0</td>\n",
       "      <td>0</td>\n",
       "    </tr>\n",
       "    <tr>\n",
       "      <th>1</th>\n",
       "      <td>0</td>\n",
       "      <td>0</td>\n",
       "      <td>0</td>\n",
       "      <td>1</td>\n",
       "      <td>1</td>\n",
       "      <td>1</td>\n",
       "      <td>0</td>\n",
       "      <td>0</td>\n",
       "      <td>0</td>\n",
       "      <td>0</td>\n",
       "      <td>...</td>\n",
       "      <td>0</td>\n",
       "      <td>0</td>\n",
       "      <td>0</td>\n",
       "      <td>0</td>\n",
       "      <td>0</td>\n",
       "      <td>0</td>\n",
       "      <td>0</td>\n",
       "      <td>0</td>\n",
       "      <td>0</td>\n",
       "      <td>1</td>\n",
       "    </tr>\n",
       "    <tr>\n",
       "      <th>2</th>\n",
       "      <td>0</td>\n",
       "      <td>0</td>\n",
       "      <td>0</td>\n",
       "      <td>0</td>\n",
       "      <td>0</td>\n",
       "      <td>0</td>\n",
       "      <td>0</td>\n",
       "      <td>1</td>\n",
       "      <td>1</td>\n",
       "      <td>1</td>\n",
       "      <td>...</td>\n",
       "      <td>0</td>\n",
       "      <td>0</td>\n",
       "      <td>0</td>\n",
       "      <td>0</td>\n",
       "      <td>0</td>\n",
       "      <td>0</td>\n",
       "      <td>0</td>\n",
       "      <td>0</td>\n",
       "      <td>0</td>\n",
       "      <td>2</td>\n",
       "    </tr>\n",
       "    <tr>\n",
       "      <th>3</th>\n",
       "      <td>1</td>\n",
       "      <td>0</td>\n",
       "      <td>0</td>\n",
       "      <td>0</td>\n",
       "      <td>0</td>\n",
       "      <td>0</td>\n",
       "      <td>0</td>\n",
       "      <td>0</td>\n",
       "      <td>0</td>\n",
       "      <td>0</td>\n",
       "      <td>...</td>\n",
       "      <td>0</td>\n",
       "      <td>0</td>\n",
       "      <td>0</td>\n",
       "      <td>0</td>\n",
       "      <td>0</td>\n",
       "      <td>0</td>\n",
       "      <td>0</td>\n",
       "      <td>0</td>\n",
       "      <td>0</td>\n",
       "      <td>3</td>\n",
       "    </tr>\n",
       "    <tr>\n",
       "      <th>4</th>\n",
       "      <td>1</td>\n",
       "      <td>1</td>\n",
       "      <td>0</td>\n",
       "      <td>0</td>\n",
       "      <td>0</td>\n",
       "      <td>0</td>\n",
       "      <td>0</td>\n",
       "      <td>1</td>\n",
       "      <td>0</td>\n",
       "      <td>0</td>\n",
       "      <td>...</td>\n",
       "      <td>0</td>\n",
       "      <td>0</td>\n",
       "      <td>0</td>\n",
       "      <td>0</td>\n",
       "      <td>0</td>\n",
       "      <td>0</td>\n",
       "      <td>0</td>\n",
       "      <td>0</td>\n",
       "      <td>0</td>\n",
       "      <td>4</td>\n",
       "    </tr>\n",
       "  </tbody>\n",
       "</table>\n",
       "<p>5 rows × 133 columns</p>\n",
       "</div>"
      ],
      "text/plain": [
       "   itching  skin_rash  nodal_skin_eruptions  continuous_sneezing  shivering  \\\n",
       "0        1          1                     1                    0          0   \n",
       "1        0          0                     0                    1          1   \n",
       "2        0          0                     0                    0          0   \n",
       "3        1          0                     0                    0          0   \n",
       "4        1          1                     0                    0          0   \n",
       "\n",
       "   chills  joint_pain  stomach_pain  acidity  ulcers_on_tongue  ...  \\\n",
       "0       0           0             0        0                 0  ...   \n",
       "1       1           0             0        0                 0  ...   \n",
       "2       0           0             1        1                 1  ...   \n",
       "3       0           0             0        0                 0  ...   \n",
       "4       0           0             1        0                 0  ...   \n",
       "\n",
       "   blackheads  scurring  skin_peeling  silver_like_dusting  \\\n",
       "0           0         0             0                    0   \n",
       "1           0         0             0                    0   \n",
       "2           0         0             0                    0   \n",
       "3           0         0             0                    0   \n",
       "4           0         0             0                    0   \n",
       "\n",
       "   small_dents_in_nails  inflammatory_nails  blister  red_sore_around_nose  \\\n",
       "0                     0                   0        0                     0   \n",
       "1                     0                   0        0                     0   \n",
       "2                     0                   0        0                     0   \n",
       "3                     0                   0        0                     0   \n",
       "4                     0                   0        0                     0   \n",
       "\n",
       "   yellow_crust_ooze  prognosis  \n",
       "0                  0          0  \n",
       "1                  0          1  \n",
       "2                  0          2  \n",
       "3                  0          3  \n",
       "4                  0          4  \n",
       "\n",
       "[5 rows x 133 columns]"
      ]
     },
     "execution_count": 11,
     "metadata": {},
     "output_type": "execute_result"
    }
   ],
   "source": [
    "#Reading the  testing.csv file\n",
    "tr=pd.read_csv(\"testing.csv\")\n",
    "\n",
    "#Using inbuilt function replace in pandas for replacing the values\n",
    "\n",
    "tr.replace({'prognosis':{'Fungal infection':0,'Allergy':1,'GERD':2,'Chronic cholestasis':3,'Drug Reaction':4,\n",
    "    'Peptic ulcer diseae':5,'AIDS':6,'Diabetes ':7,'Gastroenteritis':8,'Bronchial Asthma':9,'Hypertension ':10,\n",
    "    'Migraine':11,'Cervical spondylosis':12,\n",
    "    'Paralysis (brain hemorrhage)':13,'Jaundice':14,'Malaria':15,'Chicken pox':16,'Dengue':17,'Typhoid':18,'hepatitis A':19,\n",
    "    'Hepatitis B':20,'Hepatitis C':21,'Hepatitis D':22,'Hepatitis E':23,'Alcoholic hepatitis':24,'Tuberculosis':25,\n",
    "    'Common Cold':26,'Pneumonia':27,'Dimorphic hemmorhoids(piles)':28,'Heart attack':29,'Varicose veins':30,'Hypothyroidism':31,\n",
    "    'Hyperthyroidism':32,'Hypoglycemia':33,'Osteoarthristis':34,'Arthritis':35,\n",
    "    '(vertigo) Paroymsal  Positional Vertigo':36,'Acne':37,'Urinary tract infection':38,'Psoriasis':39,\n",
    "    'Impetigo':40}},inplace=True)\n",
    "tr.head()"
   ]
  },
  {
   "cell_type": "code",
   "execution_count": null,
   "metadata": {},
   "outputs": [],
   "source": []
  },
  {
   "cell_type": "code",
   "execution_count": null,
   "metadata": {},
   "outputs": [],
   "source": []
  },
  {
   "cell_type": "code",
   "execution_count": 12,
   "metadata": {},
   "outputs": [
    {
     "name": "stdout",
     "output_type": "stream",
     "text": [
      "    back_pain  constipation  abdominal_pain  diarrhoea  mild_fever  \\\n",
      "0           0             0               0          0           0   \n",
      "1           0             0               0          0           0   \n",
      "2           0             0               0          0           0   \n",
      "3           0             0               1          0           0   \n",
      "4           0             0               0          0           0   \n",
      "5           0             0               1          0           0   \n",
      "6           0             0               0          0           0   \n",
      "7           0             0               0          0           0   \n",
      "8           0             0               0          1           0   \n",
      "9           0             0               0          0           0   \n",
      "10          0             0               0          0           0   \n",
      "11          0             0               0          0           0   \n",
      "12          1             0               0          0           0   \n",
      "13          0             0               0          0           0   \n",
      "14          0             0               1          0           0   \n",
      "15          0             0               0          1           0   \n",
      "16          0             0               0          0           1   \n",
      "17          1             0               0          0           0   \n",
      "18          0             1               1          1           0   \n",
      "19          0             0               1          1           1   \n",
      "20          0             0               1          0           0   \n",
      "21          0             0               0          0           0   \n",
      "22          0             0               1          0           0   \n",
      "23          0             0               1          0           0   \n",
      "24          0             0               1          0           0   \n",
      "25          0             0               0          0           1   \n",
      "26          0             0               0          0           0   \n",
      "27          0             0               0          0           0   \n",
      "28          0             1               0          0           0   \n",
      "29          0             0               0          0           0   \n",
      "30          0             0               0          0           0   \n",
      "31          0             0               0          0           0   \n",
      "32          0             0               0          1           0   \n",
      "33          0             0               0          0           0   \n",
      "34          0             0               0          0           0   \n",
      "35          0             0               0          0           0   \n",
      "36          0             0               0          0           0   \n",
      "37          0             0               0          0           0   \n",
      "38          0             0               0          0           0   \n",
      "39          0             0               0          0           0   \n",
      "40          0             0               0          0           0   \n",
      "\n",
      "    yellow_urine  yellowing_of_eyes  acute_liver_failure  fluid_overload  \\\n",
      "0              0                  0                    0               0   \n",
      "1              0                  0                    0               0   \n",
      "2              0                  0                    0               0   \n",
      "3              0                  1                    0               0   \n",
      "4              0                  0                    0               0   \n",
      "5              0                  0                    0               0   \n",
      "6              0                  0                    0               0   \n",
      "7              0                  0                    0               0   \n",
      "8              0                  0                    0               0   \n",
      "9              0                  0                    0               0   \n",
      "10             0                  0                    0               0   \n",
      "11             0                  0                    0               0   \n",
      "12             0                  0                    0               0   \n",
      "13             0                  0                    0               0   \n",
      "14             0                  0                    0               0   \n",
      "15             0                  0                    0               0   \n",
      "16             0                  0                    0               0   \n",
      "17             0                  0                    0               0   \n",
      "18             0                  0                    0               0   \n",
      "19             0                  1                    0               0   \n",
      "20             1                  1                    0               0   \n",
      "21             0                  1                    0               0   \n",
      "22             0                  1                    0               0   \n",
      "23             0                  1                    1               0   \n",
      "24             0                  0                    0               0   \n",
      "25             0                  1                    0               0   \n",
      "26             0                  0                    0               0   \n",
      "27             0                  0                    0               0   \n",
      "28             0                  0                    0               0   \n",
      "29             0                  0                    0               0   \n",
      "30             0                  0                    0               0   \n",
      "31             0                  0                    0               0   \n",
      "32             0                  0                    0               0   \n",
      "33             0                  0                    0               0   \n",
      "34             0                  0                    0               0   \n",
      "35             0                  0                    0               0   \n",
      "36             0                  0                    0               0   \n",
      "37             0                  0                    0               0   \n",
      "38             0                  0                    0               0   \n",
      "39             0                  0                    0               0   \n",
      "40             0                  0                    0               0   \n",
      "\n",
      "    swelling_of_stomach  ...  pus_filled_pimples  blackheads  scurring  \\\n",
      "0                     0  ...                   0           0         0   \n",
      "1                     0  ...                   0           0         0   \n",
      "2                     0  ...                   0           0         0   \n",
      "3                     0  ...                   0           0         0   \n",
      "4                     0  ...                   0           0         0   \n",
      "5                     0  ...                   0           0         0   \n",
      "6                     0  ...                   0           0         0   \n",
      "7                     0  ...                   0           0         0   \n",
      "8                     0  ...                   0           0         0   \n",
      "9                     0  ...                   0           0         0   \n",
      "10                    0  ...                   0           0         0   \n",
      "11                    0  ...                   0           0         0   \n",
      "12                    0  ...                   0           0         0   \n",
      "13                    0  ...                   0           0         0   \n",
      "14                    0  ...                   0           0         0   \n",
      "15                    0  ...                   0           0         0   \n",
      "16                    0  ...                   0           0         0   \n",
      "17                    0  ...                   0           0         0   \n",
      "18                    0  ...                   0           0         0   \n",
      "19                    0  ...                   0           0         0   \n",
      "20                    0  ...                   0           0         0   \n",
      "21                    0  ...                   0           0         0   \n",
      "22                    0  ...                   0           0         0   \n",
      "23                    0  ...                   0           0         0   \n",
      "24                    1  ...                   0           0         0   \n",
      "25                    0  ...                   0           0         0   \n",
      "26                    0  ...                   0           0         0   \n",
      "27                    0  ...                   0           0         0   \n",
      "28                    0  ...                   0           0         0   \n",
      "29                    0  ...                   0           0         0   \n",
      "30                    0  ...                   0           0         0   \n",
      "31                    0  ...                   0           0         0   \n",
      "32                    0  ...                   0           0         0   \n",
      "33                    0  ...                   0           0         0   \n",
      "34                    0  ...                   0           0         0   \n",
      "35                    0  ...                   0           0         0   \n",
      "36                    0  ...                   0           0         0   \n",
      "37                    0  ...                   1           1         1   \n",
      "38                    0  ...                   0           0         0   \n",
      "39                    0  ...                   0           0         0   \n",
      "40                    0  ...                   0           0         0   \n",
      "\n",
      "    skin_peeling  silver_like_dusting  small_dents_in_nails  \\\n",
      "0              0                    0                     0   \n",
      "1              0                    0                     0   \n",
      "2              0                    0                     0   \n",
      "3              0                    0                     0   \n",
      "4              0                    0                     0   \n",
      "5              0                    0                     0   \n",
      "6              0                    0                     0   \n",
      "7              0                    0                     0   \n",
      "8              0                    0                     0   \n",
      "9              0                    0                     0   \n",
      "10             0                    0                     0   \n",
      "11             0                    0                     0   \n",
      "12             0                    0                     0   \n",
      "13             0                    0                     0   \n",
      "14             0                    0                     0   \n",
      "15             0                    0                     0   \n",
      "16             0                    0                     0   \n",
      "17             0                    0                     0   \n",
      "18             0                    0                     0   \n",
      "19             0                    0                     0   \n",
      "20             0                    0                     0   \n",
      "21             0                    0                     0   \n",
      "22             0                    0                     0   \n",
      "23             0                    0                     0   \n",
      "24             0                    0                     0   \n",
      "25             0                    0                     0   \n",
      "26             0                    0                     0   \n",
      "27             0                    0                     0   \n",
      "28             0                    0                     0   \n",
      "29             0                    0                     0   \n",
      "30             0                    0                     0   \n",
      "31             0                    0                     0   \n",
      "32             0                    0                     0   \n",
      "33             0                    0                     0   \n",
      "34             0                    0                     0   \n",
      "35             0                    0                     0   \n",
      "36             0                    0                     0   \n",
      "37             0                    0                     0   \n",
      "38             0                    0                     0   \n",
      "39             1                    1                     1   \n",
      "40             0                    0                     0   \n",
      "\n",
      "    inflammatory_nails  blister  red_sore_around_nose  yellow_crust_ooze  \n",
      "0                    0        0                     0                  0  \n",
      "1                    0        0                     0                  0  \n",
      "2                    0        0                     0                  0  \n",
      "3                    0        0                     0                  0  \n",
      "4                    0        0                     0                  0  \n",
      "5                    0        0                     0                  0  \n",
      "6                    0        0                     0                  0  \n",
      "7                    0        0                     0                  0  \n",
      "8                    0        0                     0                  0  \n",
      "9                    0        0                     0                  0  \n",
      "10                   0        0                     0                  0  \n",
      "11                   0        0                     0                  0  \n",
      "12                   0        0                     0                  0  \n",
      "13                   0        0                     0                  0  \n",
      "14                   0        0                     0                  0  \n",
      "15                   0        0                     0                  0  \n",
      "16                   0        0                     0                  0  \n",
      "17                   0        0                     0                  0  \n",
      "18                   0        0                     0                  0  \n",
      "19                   0        0                     0                  0  \n",
      "20                   0        0                     0                  0  \n",
      "21                   0        0                     0                  0  \n",
      "22                   0        0                     0                  0  \n",
      "23                   0        0                     0                  0  \n",
      "24                   0        0                     0                  0  \n",
      "25                   0        0                     0                  0  \n",
      "26                   0        0                     0                  0  \n",
      "27                   0        0                     0                  0  \n",
      "28                   0        0                     0                  0  \n",
      "29                   0        0                     0                  0  \n",
      "30                   0        0                     0                  0  \n",
      "31                   0        0                     0                  0  \n",
      "32                   0        0                     0                  0  \n",
      "33                   0        0                     0                  0  \n",
      "34                   0        0                     0                  0  \n",
      "35                   0        0                     0                  0  \n",
      "36                   0        0                     0                  0  \n",
      "37                   0        0                     0                  0  \n",
      "38                   0        0                     0                  0  \n",
      "39                   1        0                     0                  0  \n",
      "40                   0        1                     1                  1  \n",
      "\n",
      "[41 rows x 95 columns]\n"
     ]
    }
   ],
   "source": [
    "X_test= tr[l1]\n",
    "y_test = tr[[\"prognosis\"]]\n",
    "np.ravel(y_test)\n",
    "print(X_test)"
   ]
  },
  {
   "cell_type": "code",
   "execution_count": 13,
   "metadata": {},
   "outputs": [
    {
     "name": "stdout",
     "output_type": "stream",
     "text": [
      "    prognosis\n",
      "0           0\n",
      "1           1\n",
      "2           2\n",
      "3           3\n",
      "4           4\n",
      "5           5\n",
      "6           6\n",
      "7           7\n",
      "8           8\n",
      "9           9\n",
      "10         10\n",
      "11         11\n",
      "12         12\n",
      "13         13\n",
      "14         14\n",
      "15         15\n",
      "16         16\n",
      "17         17\n",
      "18         18\n",
      "19         19\n",
      "20         20\n",
      "21         21\n",
      "22         22\n",
      "23         23\n",
      "24         24\n",
      "25         25\n",
      "26         26\n",
      "27         27\n",
      "28         28\n",
      "29         29\n",
      "30         30\n",
      "31         31\n",
      "32         32\n",
      "33         33\n",
      "34         34\n",
      "35         35\n",
      "36         36\n",
      "37         37\n",
      "38         38\n",
      "39         39\n",
      "40         40\n"
     ]
    }
   ],
   "source": [
    "print(y_test)"
   ]
  },
  {
   "cell_type": "markdown",
   "metadata": {},
   "source": [
    "**To build the precision of the model, we utilized three distinctive algorithms which are as per the following**\n",
    "* Decision Tree algorithm\n",
    "* Random Forest algorithm\n",
    "* KNearestNeighbour algorithm\n",
    "* Naive Bayes algorithm"
   ]
  },
  {
   "cell_type": "code",
   "execution_count": 14,
   "metadata": {},
   "outputs": [],
   "source": [
    "#list1 = DF['prognosis'].unique()\n",
    "def scatterplt(disea):\n",
    "    x = ((DF.loc[disea]).sum())#total sum of symptom reported for given disease\n",
    "    x.drop(x[x==0].index,inplace=True)#droping symptoms with values 0\n",
    "    print(x.values)\n",
    "    y = x.keys()#storing nameof symptoms in y\n",
    "    print(len(x))\n",
    "    print(len(y))\n",
    "    plt.title(disea)\n",
    "    plt.scatter(y,x.values)\n",
    "    plt.show()\n",
    "\n",
    "def scatterinp(sym1,sym2,sym3,sym4,sym5):\n",
    "    x = [sym1,sym2,sym3,sym4,sym5]#storing input symptoms in y\n",
    "    y = [0,0,0,0,0]#creating and giving values to the input symptoms\n",
    "    if(sym1!='Select Here'):\n",
    "        y[0]=1\n",
    "    if(sym2!='Select Here'):\n",
    "        y[1]=1\n",
    "    if(sym3!='Select Here'):\n",
    "        y[2]=1\n",
    "    if(sym4!='Select Here'):\n",
    "        y[3]=1\n",
    "    if(sym5!='Select Here'):\n",
    "        y[4]=1\n",
    "    print(x)\n",
    "    print(y)\n",
    "    plt.scatter(x,y)\n",
    "    plt.show()"
   ]
  },
  {
   "cell_type": "markdown",
   "metadata": {},
   "source": [
    "# Decision Tree Algorithm"
   ]
  },
  {
   "cell_type": "code",
   "execution_count": 15,
   "metadata": {},
   "outputs": [],
   "source": [
    "root = Tk()\n",
    "pred1=StringVar()\n",
    "def DecisionTree():\n",
    "    if len(NameEn.get()) == 0:\n",
    "        pred1.set(\" \")\n",
    "        comp=messagebox.askokcancel(\"System\",\"Kindly Fill the Name\")\n",
    "        if comp:\n",
    "            root.mainloop()\n",
    "    elif((Symptom1.get()==\"Select Here\") or (Symptom2.get()==\"Select Here\")):\n",
    "        pred1.set(\" \")\n",
    "        sym=messagebox.askokcancel(\"System\",\"Kindly Fill atleast first two Symptoms\")\n",
    "        if sym:\n",
    "            root.mainloop()\n",
    "    else:\n",
    "        from sklearn import tree\n",
    "\n",
    "        clf3 = tree.DecisionTreeClassifier() \n",
    "        clf3 = clf3.fit(X,y)\n",
    "\n",
    "        from sklearn.metrics import classification_report,confusion_matrix,accuracy_score\n",
    "        y_pred=clf3.predict(X_test)\n",
    "        print(\"Decision Tree\")\n",
    "        print(\"Accuracy\")\n",
    "        print(accuracy_score(y_test, y_pred))\n",
    "        print(accuracy_score(y_test, y_pred,normalize=False))\n",
    "        print(\"Confusion matrix\")\n",
    "        conf_matrix=confusion_matrix(y_test,y_pred)\n",
    "        print(conf_matrix)\n",
    "\n",
    "        psymptoms = [Symptom1.get(),Symptom2.get(),Symptom3.get(),Symptom4.get(),Symptom5.get()]\n",
    "\n",
    "        for k in range(0,len(l1)):\n",
    "            for z in psymptoms:\n",
    "                if(z==l1[k]):\n",
    "                    l2[k]=1\n",
    "\n",
    "        inputtest = [l2]\n",
    "        predict = clf3.predict(inputtest)\n",
    "        predicted=predict[0]\n",
    "\n",
    "        h='no'\n",
    "        for a in range(0,len(disease)):\n",
    "            if(predicted == a):\n",
    "                h='yes'\n",
    "                break\n",
    "\n",
    "    \n",
    "        if (h=='yes'):\n",
    "            pred1.set(\" \")\n",
    "            pred1.set(disease[a])\n",
    "        else:\n",
    "            pred1.set(\" \")\n",
    "            pred1.set(\"Not Found\")\n",
    "        #Creating the database if not exists named as database.db and creating table if not exists named as DecisionTree using sqlite3 \n",
    "        import sqlite3 \n",
    "        conn = sqlite3.connect('database.db') \n",
    "        c = conn.cursor() \n",
    "        c.execute(\"CREATE TABLE IF NOT EXISTS DecisionTree(Name StringVar,Symtom1 StringVar,Symtom2 StringVar,Symtom3 StringVar,Symtom4 TEXT,Symtom5 TEXT,Disease StringVar)\")\n",
    "        c.execute(\"INSERT INTO DecisionTree(Name,Symtom1,Symtom2,Symtom3,Symtom4,Symtom5,Disease) VALUES(?,?,?,?,?,?,?)\",(NameEn.get(),Symptom1.get(),Symptom2.get(),Symptom3.get(),Symptom4.get(),Symptom5.get(),pred1.get()))\n",
    "        conn.commit()  \n",
    "        c.close() \n",
    "        conn.close()\n",
    "        \n",
    "        #printing scatter plot of input symptoms\n",
    "        #printing scatter plot of disease predicted vs its symptoms\n",
    "        scatterinp(Symptom1.get(),Symptom2.get(),Symptom3.get(),Symptom4.get(),Symptom5.get())\n",
    "        scatterplt(pred1.get())"
   ]
  },
  {
   "cell_type": "markdown",
   "metadata": {},
   "source": [
    "# Random Forest Algorithm"
   ]
  },
  {
   "cell_type": "code",
   "execution_count": 16,
   "metadata": {},
   "outputs": [],
   "source": [
    "pred2=StringVar()\n",
    "def randomforest():\n",
    "    if len(NameEn.get()) == 0:\n",
    "        pred1.set(\" \")\n",
    "        comp=messagebox.askokcancel(\"System\",\"Kindly Fill the Name\")\n",
    "        if comp:\n",
    "            root.mainloop()\n",
    "    elif((Symptom1.get()==\"Select Here\") or (Symptom2.get()==\"Select Here\")):\n",
    "        pred1.set(\" \")\n",
    "        sym=messagebox.askokcancel(\"System\",\"Kindly Fill atleast first two Symptoms\")\n",
    "        if sym:\n",
    "            root.mainloop()\n",
    "    else:\n",
    "        from sklearn.ensemble import RandomForestClassifier\n",
    "        clf4 = RandomForestClassifier(n_estimators=100)\n",
    "        clf4 = clf4.fit(X,np.ravel(y))\n",
    "\n",
    "        # calculating accuracy \n",
    "        from sklearn.metrics import classification_report,confusion_matrix,accuracy_score\n",
    "        y_pred=clf4.predict(X_test)\n",
    "        print(\"Random Forest\")\n",
    "        print(\"Accuracy\")\n",
    "        print(accuracy_score(y_test, y_pred))\n",
    "        print(accuracy_score(y_test, y_pred,normalize=False))\n",
    "        print(\"Confusion matrix\")\n",
    "        conf_matrix=confusion_matrix(y_test,y_pred)\n",
    "        print(conf_matrix)\n",
    "    \n",
    "        psymptoms = [Symptom1.get(),Symptom2.get(),Symptom3.get(),Symptom4.get(),Symptom5.get()]\n",
    "\n",
    "        for k in range(0,len(l1)):\n",
    "            for z in psymptoms:\n",
    "                if(z==l1[k]):\n",
    "                    l2[k]=1\n",
    "\n",
    "        inputtest = [l2]\n",
    "        predict = clf4.predict(inputtest)\n",
    "        predicted=predict[0]\n",
    "\n",
    "        h='no'\n",
    "        for a in range(0,len(disease)):\n",
    "            if(predicted == a):\n",
    "                h='yes'\n",
    "                break\n",
    "        if (h=='yes'):\n",
    "            pred2.set(\" \")\n",
    "            pred2.set(disease[a])\n",
    "        else:\n",
    "            pred2.set(\" \")\n",
    "            pred2.set(\"Not Found\")\n",
    "         #Creating the database if not exists named as database.db and creating table if not exists named as RandomForest using sqlite3\n",
    "        import sqlite3 \n",
    "        conn = sqlite3.connect('database.db') \n",
    "        c = conn.cursor() \n",
    "        c.execute(\"CREATE TABLE IF NOT EXISTS RandomForest(Name StringVar,Symtom1 StringVar,Symtom2 StringVar,Symtom3 StringVar,Symtom4 TEXT,Symtom5 TEXT,Disease StringVar)\")\n",
    "        c.execute(\"INSERT INTO RandomForest(Name,Symtom1,Symtom2,Symtom3,Symtom4,Symtom5,Disease) VALUES(?,?,?,?,?,?,?)\",(NameEn.get(),Symptom1.get(),Symptom2.get(),Symptom3.get(),Symptom4.get(),Symptom5.get(),pred2.get()))\n",
    "        conn.commit()  \n",
    "        c.close() \n",
    "        conn.close()\n",
    "        #printing scatter plot of disease predicted vs its symptoms\n",
    "        scatterplt(pred2.get())"
   ]
  },
  {
   "cell_type": "markdown",
   "metadata": {},
   "source": [
    "# KNearestNeighbour Algorithm"
   ]
  },
  {
   "cell_type": "code",
   "execution_count": 17,
   "metadata": {},
   "outputs": [],
   "source": [
    "pred4=StringVar()\n",
    "def KNN():\n",
    "    if len(NameEn.get()) == 0:\n",
    "        pred1.set(\" \")\n",
    "        comp=messagebox.askokcancel(\"System\",\"Kindly Fill the Name\")\n",
    "        if comp:\n",
    "            root.mainloop()\n",
    "    elif((Symptom1.get()==\"Select Here\") or (Symptom2.get()==\"Select Here\")):\n",
    "        pred1.set(\" \")\n",
    "        sym=messagebox.askokcancel(\"System\",\"Kindly Fill atleast first two Symptoms\")\n",
    "        if sym:\n",
    "            root.mainloop()\n",
    "    else:\n",
    "        from sklearn.neighbors import KNeighborsClassifier\n",
    "        knn=KNeighborsClassifier(n_neighbors=5,metric='minkowski',p=2)\n",
    "        knn=knn.fit(X,np.ravel(y))\n",
    "    \n",
    "        from sklearn.metrics import classification_report,confusion_matrix,accuracy_score\n",
    "        y_pred=knn.predict(X_test)\n",
    "        print(\"kNearest Neighbour\")\n",
    "        print(\"Accuracy\")\n",
    "        print(accuracy_score(y_test, y_pred))\n",
    "        print(accuracy_score(y_test, y_pred,normalize=False))\n",
    "        print(\"Confusion matrix\")\n",
    "        conf_matrix=confusion_matrix(y_test,y_pred)\n",
    "        print(conf_matrix)\n",
    "\n",
    "        psymptoms = [Symptom1.get(),Symptom2.get(),Symptom3.get(),Symptom4.get(),Symptom5.get()]\n",
    "\n",
    "        for k in range(0,len(l1)):\n",
    "            for z in psymptoms:\n",
    "                if(z==l1[k]):\n",
    "                    l2[k]=1\n",
    "\n",
    "        inputtest = [l2]\n",
    "        predict = knn.predict(inputtest)\n",
    "        predicted=predict[0]\n",
    "\n",
    "        h='no'\n",
    "        for a in range(0,len(disease)):\n",
    "            if(predicted == a):\n",
    "                h='yes'\n",
    "                break\n",
    "\n",
    "\n",
    "        if (h=='yes'):\n",
    "            pred4.set(\" \")\n",
    "            pred4.set(disease[a])\n",
    "        else:\n",
    "            pred4.set(\" \")\n",
    "            pred4.set(\"Not Found\")\n",
    "         #Creating the database if not exists named as database.db and creating table if not exists named as KNearestNeighbour using sqlite3   \n",
    "        import sqlite3 \n",
    "        conn = sqlite3.connect('database.db') \n",
    "        c = conn.cursor() \n",
    "        c.execute(\"CREATE TABLE IF NOT EXISTS KNearestNeighbour(Name StringVar,Symtom1 StringVar,Symtom2 StringVar,Symtom3 StringVar,Symtom4 TEXT,Symtom5 TEXT,Disease StringVar)\")\n",
    "        c.execute(\"INSERT INTO KNearestNeighbour(Name,Symtom1,Symtom2,Symtom3,Symtom4,Symtom5,Disease) VALUES(?,?,?,?,?,?,?)\",(NameEn.get(),Symptom1.get(),Symptom2.get(),Symptom3.get(),Symptom4.get(),Symptom5.get(),pred4.get()))\n",
    "        conn.commit()  \n",
    "        c.close() \n",
    "        conn.close()\n",
    "        #printing scatter plot of disease predicted vs its symptoms\n",
    "        \n",
    "        scatterplt(pred4.get())"
   ]
  },
  {
   "cell_type": "markdown",
   "metadata": {},
   "source": [
    "# Naive Bayes Algorithm"
   ]
  },
  {
   "cell_type": "code",
   "execution_count": 18,
   "metadata": {},
   "outputs": [],
   "source": [
    "pred3=StringVar()\n",
    "def NaiveBayes():\n",
    "    if len(NameEn.get()) == 0:\n",
    "        pred1.set(\" \")\n",
    "        comp=messagebox.askokcancel(\"System\",\"Kindly Fill the Name\")\n",
    "        if comp:\n",
    "            root.mainloop()\n",
    "    elif((Symptom1.get()==\"Select Here\") or (Symptom2.get()==\"Select Here\")):\n",
    "        pred1.set(\" \")\n",
    "        sym=messagebox.askokcancel(\"System\",\"Kindly Fill atleast first two Symptoms\")\n",
    "        if sym:\n",
    "            root.mainloop()\n",
    "    else:\n",
    "        from sklearn.naive_bayes import GaussianNB\n",
    "        gnb = GaussianNB()\n",
    "        gnb=gnb.fit(X,np.ravel(y))\n",
    "\n",
    "        from sklearn.metrics import classification_report,confusion_matrix,accuracy_score\n",
    "        y_pred=gnb.predict(X_test)\n",
    "        print(\"Naive Bayes\")\n",
    "        print(\"Accuracy\")\n",
    "        print(accuracy_score(y_test, y_pred))\n",
    "        print(accuracy_score(y_test, y_pred,normalize=False))\n",
    "        print(\"Confusion matrix\")\n",
    "        conf_matrix=confusion_matrix(y_test,y_pred)\n",
    "        print(conf_matrix)\n",
    "\n",
    "        psymptoms = [Symptom1.get(),Symptom2.get(),Symptom3.get(),Symptom4.get(),Symptom5.get()]\n",
    "        for k in range(0,len(l1)):\n",
    "            for z in psymptoms:\n",
    "                if(z==l1[k]):\n",
    "                    l2[k]=1\n",
    "\n",
    "        inputtest = [l2]\n",
    "        predict = gnb.predict(inputtest)\n",
    "        predicted=predict[0]\n",
    "\n",
    "        h='no'\n",
    "        for a in range(0,len(disease)):\n",
    "            if(predicted == a):\n",
    "                h='yes'\n",
    "                break\n",
    "        if (h=='yes'):\n",
    "            pred3.set(\" \")\n",
    "            pred3.set(disease[a])\n",
    "        else:\n",
    "            pred3.set(\" \")\n",
    "            pred3.set(\"Not Found\")\n",
    "         #Creating the database if not exists named as database.db and creating table if not exists named as NaiveBayes using sqlite3\n",
    "        import sqlite3 \n",
    "        conn = sqlite3.connect('database.db') \n",
    "        c = conn.cursor() \n",
    "        c.execute(\"CREATE TABLE IF NOT EXISTS NaiveBayes(Name StringVar,Symtom1 StringVar,Symtom2 StringVar,Symtom3 StringVar,Symtom4 TEXT,Symtom5 TEXT,Disease StringVar)\")\n",
    "        c.execute(\"INSERT INTO NaiveBayes(Name,Symtom1,Symtom2,Symtom3,Symtom4,Symtom5,Disease) VALUES(?,?,?,?,?,?,?)\",(NameEn.get(),Symptom1.get(),Symptom2.get(),Symptom3.get(),Symptom4.get(),Symptom5.get(),pred3.get()))\n",
    "        conn.commit()  \n",
    "        c.close() \n",
    "        conn.close()\n",
    "        #printing scatter plot of disease predicted vs its symptoms\n",
    "        scatterplt(pred3.get())"
   ]
  },
  {
   "cell_type": "markdown",
   "metadata": {},
   "source": [
    "# Building Graphical User Interface"
   ]
  },
  {
   "cell_type": "code",
   "execution_count": 19,
   "metadata": {},
   "outputs": [
    {
     "data": {
      "text/plain": [
       "''"
      ]
     },
     "execution_count": 19,
     "metadata": {},
     "output_type": "execute_result"
    }
   ],
   "source": [
    "#Tk class is used to create a root window\n",
    "root.configure(background='Ivory')\n",
    "root.title('Smart Disease Predictor System')\n",
    "root.resizable(0,0)"
   ]
  },
  {
   "cell_type": "code",
   "execution_count": 20,
   "metadata": {},
   "outputs": [],
   "source": [
    "Symptom1 = StringVar()\n",
    "Symptom1.set(\"Select Here\")\n",
    "\n",
    "Symptom2 = StringVar()\n",
    "Symptom2.set(\"Select Here\")\n",
    "\n",
    "Symptom3 = StringVar()\n",
    "Symptom3.set(\"Select Here\")\n",
    "\n",
    "Symptom4 = StringVar()\n",
    "Symptom4.set(\"Select Here\")\n",
    "\n",
    "Symptom5 = StringVar()\n",
    "Symptom5.set(\"Select Here\")\n",
    "Name = StringVar()"
   ]
  },
  {
   "cell_type": "code",
   "execution_count": 21,
   "metadata": {},
   "outputs": [],
   "source": [
    "prev_win=None\n",
    "def Reset():\n",
    "    global prev_win\n",
    "\n",
    "    Symptom1.set(\"Select Here\")\n",
    "    Symptom2.set(\"Select Here\")\n",
    "    Symptom3.set(\"Select Here\")\n",
    "    Symptom4.set(\"Select Here\")\n",
    "    Symptom5.set(\"Select Here\")\n",
    "    NameEn.delete(first=0,last=100)\n",
    "    pred1.set(\" \")\n",
    "    pred2.set(\" \")\n",
    "    pred3.set(\" \")\n",
    "    pred4.set(\" \")\n",
    "    try:\n",
    "        prev_win.destroy()\n",
    "        prev_win=None\n",
    "    except AttributeError:\n",
    "        pass"
   ]
  },
  {
   "cell_type": "code",
   "execution_count": 22,
   "metadata": {},
   "outputs": [],
   "source": [
    "from tkinter import messagebox\n",
    "def Exit():\n",
    "    qExit=messagebox.askyesno(\"System\",\"Do you want to exit the system\")\n",
    "    \n",
    "    if qExit:\n",
    "        root.destroy()\n",
    "        exit()"
   ]
  },
  {
   "cell_type": "code",
   "execution_count": 23,
   "metadata": {},
   "outputs": [],
   "source": [
    "#Headings for the GUI written at the top of GUI\n",
    "w2 = Label(root, justify=LEFT, text=\"Disease Predictor\", fg=\"aquamarine4\", bg=\"Ivory\")\n",
    "\n",
    "w2.config(font=(\"Times\",30,\"bold italic\"))\n",
    "w2.grid(row=1, column=0, columnspan=2, padx=100)\n"
   ]
  },
  {
   "cell_type": "code",
   "execution_count": 24,
   "metadata": {},
   "outputs": [],
   "source": [
    "#Label for the name\n",
    "NameLb = Label(root, text=\"Name of the Patient *\", fg=\"black\", bg=\"Ivory\")\n",
    "NameLb.config(font=(\"Times\",15,\"bold italic\"))\n",
    "NameLb.grid(row=6, column=0, pady=15, sticky=W)"
   ]
  },
  {
   "cell_type": "code",
   "execution_count": 25,
   "metadata": {},
   "outputs": [],
   "source": [
    "\n",
    "#Creating Labels for the symtoms\n",
    "S1Lb = Label(root, text=\"Symptom 1 *\", fg=\"Black\", bg=\"Ivory\")\n",
    "S1Lb.config(font=(\"Times\",15,\"bold italic\"))\n",
    "S1Lb.grid(row=7, column=0, pady=10, sticky=W)\n",
    "\n",
    "S2Lb = Label(root, text=\"Symptom 2 *\", fg=\"Black\", bg=\"Ivory\")\n",
    "S2Lb.config(font=(\"Times\",15,\"bold italic\"))\n",
    "S2Lb.grid(row=8, column=0, pady=10, sticky=W)\n",
    "\n",
    "S3Lb = Label(root, text=\"Symptom 3\", fg=\"Black\",bg=\"Ivory\")\n",
    "S3Lb.config(font=(\"Times\",15,\"bold italic\"))\n",
    "S3Lb.grid(row=9, column=0, pady=10, sticky=W)\n",
    "\n",
    "S4Lb = Label(root, text=\"Symptom 4\", fg=\"Black\", bg=\"Ivory\")\n",
    "S4Lb.config(font=(\"Times\",15,\"bold italic\"))\n",
    "S4Lb.grid(row=10, column=0, pady=10, sticky=W)\n",
    "\n",
    "S5Lb = Label(root, text=\"Symptom 5\", fg=\"Black\", bg=\"Ivory\")\n",
    "S5Lb.config(font=(\"Times\",15,\"bold italic\"))\n",
    "S5Lb.grid(row=11, column=0, pady=10, sticky=W)"
   ]
  },
  {
   "cell_type": "code",
   "execution_count": 26,
   "metadata": {},
   "outputs": [],
   "source": [
    "#Labels for the different algorithms\n",
    "lrLb = Label(root, text=\"DecisionTree\", fg=\"white\", bg=\"grey\", width = 20)\n",
    "lrLb.config(font=(\"Times\",15,\"bold italic\"))\n",
    "lrLb.grid(row=15, column=0, pady=10,sticky=W)\n",
    "\n",
    "destreeLb = Label(root, text=\"RandomForest\", fg=\"white\", bg=\"grey\", width = 20)\n",
    "destreeLb.config(font=(\"Times\",15,\"bold italic\"))\n",
    "destreeLb.grid(row=17, column=0, pady=10, sticky=W)\n",
    "\n",
    "ranfLb = Label(root, text=\"NaiveBayes\", fg=\"White\", bg=\"grey\", width = 20)\n",
    "ranfLb.config(font=(\"Times\",15,\"bold italic\"))\n",
    "ranfLb.grid(row=19, column=0, pady=10, sticky=W)\n",
    "\n",
    "knnLb = Label(root, text=\"kNearestNeighbour\", fg=\"white\", bg=\"Grey\", width = 20)\n",
    "knnLb.config(font=(\"Times\",15,\"bold italic\"))\n",
    "knnLb.grid(row=21, column=0, pady=10, sticky=W)\n",
    "OPTIONS = sorted(l1)"
   ]
  },
  {
   "cell_type": "code",
   "execution_count": 27,
   "metadata": {},
   "outputs": [],
   "source": [
    "#Taking name as input from user\n",
    "NameEn = Entry(root, textvariable=Name)\n",
    "NameEn.grid(row=6, column=1)\n",
    "\n",
    "#Taking Symptoms as input from the dropdown from the user\n",
    "S1 = OptionMenu(root, Symptom1,*OPTIONS)\n",
    "S1.grid(row=7, column=1)\n",
    "\n",
    "S2 = OptionMenu(root, Symptom2,*OPTIONS)\n",
    "S2.grid(row=8, column=1)\n",
    "\n",
    "S3 = OptionMenu(root, Symptom3,*OPTIONS)\n",
    "S3.grid(row=9, column=1)\n",
    "\n",
    "S4 = OptionMenu(root, Symptom4,*OPTIONS)\n",
    "S4.grid(row=10, column=1)\n",
    "\n",
    "S5 = OptionMenu(root, Symptom5,*OPTIONS)\n",
    "S5.grid(row=11, column=1)"
   ]
  },
  {
   "cell_type": "code",
   "execution_count": 28,
   "metadata": {},
   "outputs": [],
   "source": [
    "#Buttons for predicting the disease using different algorithms\n",
    "dst = Button(root, text=\"Prediction 1\", command=DecisionTree,bg=\"grey\",fg=\"white\")\n",
    "dst.config(font=(\"Times\",15,\"bold italic\"))\n",
    "dst.grid(row=6, column=3,padx=10)\n",
    "\n",
    "rnf = Button(root, text=\"Prediction 2\", command=randomforest,bg=\"white\",fg=\"grey\")\n",
    "rnf.config(font=(\"Times\",15,\"bold italic\"))\n",
    "rnf.grid(row=7, column=3,padx=10)\n",
    "\n",
    "lr = Button(root, text=\"Prediction 3\", command=NaiveBayes,bg=\"white\",fg=\"grey\")\n",
    "lr.config(font=(\"Times\",15,\"bold italic\"))\n",
    "lr.grid(row=8, column=3,padx=10)\n",
    "\n",
    "kn = Button(root, text=\"Prediction 4\", command=KNN,bg=\"white\",fg=\"grey\")\n",
    "kn.config(font=(\"Times\",15,\"bold italic\"))\n",
    "kn.grid(row=9, column=3,padx=10)\n",
    "\n",
    "rs = Button(root,text=\"Reset Inputs\", command=Reset,bg=\"white\",fg=\"grey\",width=15)\n",
    "rs.config(font=(\"Times\",15,\"bold italic\"))\n",
    "rs.grid(row=10,column=3,padx=10)\n",
    "\n",
    "ex = Button(root,text=\"Exit System\", command=Exit,bg=\"white\",fg=\"grey\",width=15)\n",
    "ex.config(font=(\"Times\",15,\"bold italic\"))\n",
    "ex.grid(row=11,column=3,padx=10)"
   ]
  },
  {
   "cell_type": "code",
   "execution_count": 29,
   "metadata": {},
   "outputs": [],
   "source": [
    "#Showing the output of different aldorithms\n",
    "t1=Label(root,font=(\"Times\",15,\"bold italic\"),text=\"Decision Tree\",height=1,bg=\"white\"\n",
    "         ,width=40,fg=\"grey\",textvariable=pred1,relief=\"sunken\").grid(row=15, column=1, padx=10)\n",
    "\n",
    "t2=Label(root,font=(\"Times\",15,\"bold italic\"),text=\"Random Forest\",height=1,bg=\"white\"\n",
    "         ,width=40,fg=\"grey\",textvariable=pred2,relief=\"sunken\").grid(row=17, column=1, padx=10)\n",
    "\n",
    "t3=Label(root,font=(\"Times\",15,\"bold italic\"),text=\"Naive Bayes\",height=1,bg=\"white\"\n",
    "         ,width=40,fg=\"grey\",textvariable=pred3,relief=\"sunken\").grid(row=19, column=1, padx=10)\n",
    "\n",
    "t4=Label(root,font=(\"Times\",15,\"bold italic\"),text=\"kNearest Neighbour\",height=1,bg=\"white\"\n",
    "         ,width=40,fg=\"grey\",textvariable=pred4,relief=\"sunken\").grid(row=21, column=1, padx=10)"
   ]
  },
  {
   "cell_type": "code",
   "execution_count": 30,
   "metadata": {},
   "outputs": [
    {
     "name": "stdout",
     "output_type": "stream",
     "text": [
      "Decision Tree\n",
      "Accuracy\n",
      "0.9512195121951219\n",
      "39\n",
      "Confusion matrix\n",
      "[[1 0 0 ... 0 0 0]\n",
      " [0 1 0 ... 0 0 0]\n",
      " [0 0 1 ... 0 0 0]\n",
      " ...\n",
      " [0 0 0 ... 1 0 0]\n",
      " [0 0 0 ... 0 1 0]\n",
      " [0 0 0 ... 0 0 1]]\n",
      "['bladder_discomfort', 'blood_in_sputum', 'blackheads', 'diarrhoea', 'Select Here']\n",
      "[1, 1, 1, 1, 0]\n"
     ]
    },
    {
     "name": "stderr",
     "output_type": "stream",
     "text": [
      "/opt/anaconda3/lib/python3.9/site-packages/sklearn/base.py:450: UserWarning: X does not have valid feature names, but DecisionTreeClassifier was fitted with feature names\n",
      "  warnings.warn(\n"
     ]
    },
    {
     "data": {
      "image/png": "[encoded data removed]",
      "text/plain": [
       "<Figure size 432x288 with 1 Axes>"
      ]
     },
     "metadata": {
      "needs_background": "light"
     },
     "output_type": "display_data"
    },
    {
     "name": "stdout",
     "output_type": "stream",
     "text": [
      "[108 114 102 114]\n",
      "4\n",
      "4\n"
     ]
    },
    {
     "data": {
      "image/png": "[encoded data removed]",
      "text/plain": [
       "<Figure size 432x288 with 1 Axes>"
      ]
     },
     "metadata": {
      "needs_background": "light"
     },
     "output_type": "display_data"
    },
    {
     "name": "stdout",
     "output_type": "stream",
     "text": [
      "Random Forest\n",
      "Accuracy\n",
      "0.9512195121951219\n",
      "39\n",
      "Confusion matrix\n",
      "[[1 0 0 ... 0 0 0]\n",
      " [0 1 0 ... 0 0 0]\n",
      " [0 0 1 ... 0 0 0]\n",
      " ...\n",
      " [0 0 0 ... 1 0 0]\n",
      " [0 0 0 ... 0 1 0]\n",
      " [0 0 0 ... 0 0 1]]\n",
      "[108 108 108 114]\n",
      "4\n",
      "4\n"
     ]
    },
    {
     "name": "stderr",
     "output_type": "stream",
     "text": [
      "/opt/anaconda3/lib/python3.9/site-packages/sklearn/base.py:450: UserWarning: X does not have valid feature names, but RandomForestClassifier was fitted with feature names\n",
      "  warnings.warn(\n"
     ]
    },
    {
     "data": {
      "image/png": "[encoded data removed]",
      "text/plain": [
       "<Figure size 432x288 with 1 Axes>"
      ]
     },
     "metadata": {
      "needs_background": "light"
     },
     "output_type": "display_data"
    },
    {
     "name": "stdout",
     "output_type": "stream",
     "text": [
      "Naive Bayes\n",
      "Accuracy\n",
      "0.9512195121951219\n",
      "39\n",
      "Confusion matrix\n",
      "[[1 0 0 ... 0 0 0]\n",
      " [0 1 0 ... 0 0 0]\n",
      " [0 0 1 ... 0 0 0]\n",
      " ...\n",
      " [0 0 0 ... 1 0 0]\n",
      " [0 0 0 ... 0 1 0]\n",
      " [0 0 0 ... 0 0 1]]\n",
      "[108 108 108 114]\n",
      "4\n",
      "4\n"
     ]
    },
    {
     "name": "stderr",
     "output_type": "stream",
     "text": [
      "/opt/anaconda3/lib/python3.9/site-packages/sklearn/base.py:450: UserWarning: X does not have valid feature names, but GaussianNB was fitted with feature names\n",
      "  warnings.warn(\n"
     ]
    },
    {
     "data": {
      "image/png": "[encoded data removed]",
      "text/plain": [
       "<Figure size 432x288 with 1 Axes>"
      ]
     },
     "metadata": {
      "needs_background": "light"
     },
     "output_type": "display_data"
    },
    {
     "name": "stdout",
     "output_type": "stream",
     "text": [
      "Decision Tree\n",
      "Accuracy\n",
      "0.9512195121951219\n",
      "39\n",
      "Confusion matrix\n",
      "[[1 0 0 ... 0 0 0]\n",
      " [0 1 0 ... 0 0 0]\n",
      " [0 0 1 ... 0 0 0]\n",
      " ...\n",
      " [0 0 0 ... 1 0 0]\n",
      " [0 0 0 ... 0 1 0]\n",
      " [0 0 0 ... 0 0 1]]\n",
      "['family_history', 'excessive_hunger', 'dizziness', 'Select Here', 'Select Here']\n",
      "[1, 1, 1, 0, 0]\n"
     ]
    },
    {
     "name": "stderr",
     "output_type": "stream",
     "text": [
      "/opt/anaconda3/lib/python3.9/site-packages/sklearn/base.py:450: UserWarning: X does not have valid feature names, but DecisionTreeClassifier was fitted with feature names\n",
      "  warnings.warn(\n"
     ]
    },
    {
     "data": {
      "image/png": "[encoded data removed]",
      "text/plain": [
       "<Figure size 432x288 with 1 Axes>"
      ]
     },
     "metadata": {
      "needs_background": "light"
     },
     "output_type": "display_data"
    },
    {
     "name": "stdout",
     "output_type": "stream",
     "text": [
      "[108 114 102 114]\n",
      "4\n",
      "4\n"
     ]
    },
    {
     "data": {
      "image/png": "[encoded data removed]",
      "text/plain": [
       "<Figure size 432x288 with 1 Axes>"
      ]
     },
     "metadata": {
      "needs_background": "light"
     },
     "output_type": "display_data"
    },
    {
     "name": "stdout",
     "output_type": "stream",
     "text": [
      "Random Forest\n",
      "Accuracy\n",
      "0.9512195121951219\n",
      "39\n",
      "Confusion matrix\n",
      "[[1 0 0 ... 0 0 0]\n",
      " [0 1 0 ... 0 0 0]\n",
      " [0 0 0 ... 0 0 0]\n",
      " ...\n",
      " [0 0 0 ... 1 0 0]\n",
      " [0 0 0 ... 0 1 0]\n",
      " [0 0 0 ... 0 0 1]]\n",
      "[114 114 114 114 114 114 114 114 120 120 120 120 120 120 120 120]\n",
      "16\n",
      "16\n"
     ]
    },
    {
     "name": "stderr",
     "output_type": "stream",
     "text": [
      "/opt/anaconda3/lib/python3.9/site-packages/sklearn/base.py:450: UserWarning: X does not have valid feature names, but RandomForestClassifier was fitted with feature names\n",
      "  warnings.warn(\n"
     ]
    },
    {
     "data": {
      "image/png": "[encoded data removed]",
      "text/plain": [
       "<Figure size 432x288 with 1 Axes>"
      ]
     },
     "metadata": {
      "needs_background": "light"
     },
     "output_type": "display_data"
    },
    {
     "name": "stdout",
     "output_type": "stream",
     "text": [
      "Random Forest\n",
      "Accuracy\n",
      "0.9512195121951219\n",
      "39\n",
      "Confusion matrix\n",
      "[[1 0 0 ... 0 0 0]\n",
      " [0 1 0 ... 0 0 0]\n",
      " [0 0 1 ... 0 0 0]\n",
      " ...\n",
      " [0 0 0 ... 1 0 0]\n",
      " [0 0 0 ... 0 1 0]\n",
      " [0 0 0 ... 0 0 1]]\n",
      "[114 114 114 114 114 114 114 114 120 120 120 120 120 120 120 120]\n",
      "16\n",
      "16\n"
     ]
    },
    {
     "name": "stderr",
     "output_type": "stream",
     "text": [
      "/opt/anaconda3/lib/python3.9/site-packages/sklearn/base.py:450: UserWarning: X does not have valid feature names, but RandomForestClassifier was fitted with feature names\n",
      "  warnings.warn(\n"
     ]
    },
    {
     "data": {
      "image/png": "[encoded data removed]",
      "text/plain": [
       "<Figure size 432x288 with 1 Axes>"
      ]
     },
     "metadata": {
      "needs_background": "light"
     },
     "output_type": "display_data"
    },
    {
     "name": "stdout",
     "output_type": "stream",
     "text": [
      "Naive Bayes\n",
      "Accuracy\n",
      "0.9512195121951219\n",
      "39\n",
      "Confusion matrix\n",
      "[[1 0 0 ... 0 0 0]\n",
      " [0 1 0 ... 0 0 0]\n",
      " [0 0 1 ... 0 0 0]\n",
      " ...\n",
      " [0 0 0 ... 1 0 0]\n",
      " [0 0 0 ... 0 1 0]\n",
      " [0 0 0 ... 0 0 1]]\n",
      "[108 108 108 114]\n",
      "4\n",
      "4\n"
     ]
    },
    {
     "name": "stderr",
     "output_type": "stream",
     "text": [
      "/opt/anaconda3/lib/python3.9/site-packages/sklearn/base.py:450: UserWarning: X does not have valid feature names, but GaussianNB was fitted with feature names\n",
      "  warnings.warn(\n"
     ]
    },
    {
     "data": {
      "image/png": "[encoded data removed]",
      "text/plain": [
       "<Figure size 432x288 with 1 Axes>"
      ]
     },
     "metadata": {
      "needs_background": "light"
     },
     "output_type": "display_data"
    },
    {
     "name": "stdout",
     "output_type": "stream",
     "text": [
      "kNearest Neighbour\n",
      "Accuracy\n",
      "0.9512195121951219\n",
      "39\n",
      "Confusion matrix\n",
      "[[1 0 0 ... 0 0 0]\n",
      " [0 1 0 ... 0 0 0]\n",
      " [0 0 0 ... 0 0 0]\n",
      " ...\n",
      " [0 0 0 ... 1 0 0]\n",
      " [0 0 0 ... 0 1 0]\n",
      " [0 0 0 ... 0 0 1]]\n",
      "[108 108 108 114]\n",
      "4\n",
      "4\n"
     ]
    },
    {
     "name": "stderr",
     "output_type": "stream",
     "text": [
      "/opt/anaconda3/lib/python3.9/site-packages/sklearn/base.py:450: UserWarning: X does not have valid feature names, but KNeighborsClassifier was fitted with feature names\n",
      "  warnings.warn(\n"
     ]
    },
    {
     "data": {
      "image/png": "[encoded data removed]",
      "text/plain": [
       "<Figure size 432x288 with 1 Axes>"
      ]
     },
     "metadata": {
      "needs_background": "light"
     },
     "output_type": "display_data"
    },
    {
     "name": "stdout",
     "output_type": "stream",
     "text": [
      "Decision Tree\n",
      "Accuracy\n",
      "0.9512195121951219\n",
      "39\n",
      "Confusion matrix\n",
      "[[1 0 0 ... 0 0 0]\n",
      " [0 1 0 ... 0 0 0]\n",
      " [0 0 1 ... 0 0 0]\n",
      " ...\n",
      " [0 0 0 ... 1 0 0]\n",
      " [0 0 0 ... 0 1 0]\n",
      " [0 0 0 ... 0 0 1]]\n",
      "['family_history', 'excessive_hunger', 'dizziness', 'increased_appetite', 'Select Here']\n",
      "[1, 1, 1, 1, 0]\n"
     ]
    },
    {
     "name": "stderr",
     "output_type": "stream",
     "text": [
      "/opt/anaconda3/lib/python3.9/site-packages/sklearn/base.py:450: UserWarning: X does not have valid feature names, but DecisionTreeClassifier was fitted with feature names\n",
      "  warnings.warn(\n"
     ]
    },
    {
     "data": {
      "image/png": "[encoded data removed]",
      "text/plain": [
       "<Figure size 432x288 with 1 Axes>"
      ]
     },
     "metadata": {
      "needs_background": "light"
     },
     "output_type": "display_data"
    },
    {
     "name": "stdout",
     "output_type": "stream",
     "text": [
      "[108 114 102 114]\n",
      "4\n",
      "4\n"
     ]
    },
    {
     "data": {
      "image/png": "[encoded data removed]",
      "text/plain": [
       "<Figure size 432x288 with 1 Axes>"
      ]
     },
     "metadata": {
      "needs_background": "light"
     },
     "output_type": "display_data"
    },
    {
     "name": "stdout",
     "output_type": "stream",
     "text": [
      "Random Forest\n",
      "Accuracy\n",
      "0.9512195121951219\n",
      "39\n",
      "Confusion matrix\n",
      "[[1 0 0 ... 0 0 0]\n",
      " [0 1 0 ... 0 0 0]\n",
      " [0 0 1 ... 0 0 0]\n",
      " ...\n",
      " [0 0 0 ... 1 0 0]\n",
      " [0 0 0 ... 0 1 0]\n",
      " [0 0 0 ... 0 0 1]]\n",
      "[114 114 114 114 114 114 114 114 120 120 120 120 120 120 120 120]\n",
      "16\n",
      "16\n"
     ]
    },
    {
     "name": "stderr",
     "output_type": "stream",
     "text": [
      "/opt/anaconda3/lib/python3.9/site-packages/sklearn/base.py:450: UserWarning: X does not have valid feature names, but RandomForestClassifier was fitted with feature names\n",
      "  warnings.warn(\n"
     ]
    },
    {
     "data": {
      "image/png": "[encoded data removed]",
      "text/plain": [
       "<Figure size 432x288 with 1 Axes>"
      ]
     },
     "metadata": {
      "needs_background": "light"
     },
     "output_type": "display_data"
    },
    {
     "name": "stdout",
     "output_type": "stream",
     "text": [
      "Naive Bayes\n",
      "Accuracy\n",
      "0.9512195121951219\n",
      "39\n",
      "Confusion matrix\n",
      "[[1 0 0 ... 0 0 0]\n",
      " [0 1 0 ... 0 0 0]\n",
      " [0 0 1 ... 0 0 0]\n",
      " ...\n",
      " [0 0 0 ... 1 0 0]\n",
      " [0 0 0 ... 0 1 0]\n",
      " [0 0 0 ... 0 0 1]]\n",
      "[108 108 108 114]\n",
      "4\n",
      "4\n"
     ]
    },
    {
     "name": "stderr",
     "output_type": "stream",
     "text": [
      "/opt/anaconda3/lib/python3.9/site-packages/sklearn/base.py:450: UserWarning: X does not have valid feature names, but GaussianNB was fitted with feature names\n",
      "  warnings.warn(\n"
     ]
    },
    {
     "data": {
      "image/png": "[encoded data removed]",
      "text/plain": [
       "<Figure size 432x288 with 1 Axes>"
      ]
     },
     "metadata": {
      "needs_background": "light"
     },
     "output_type": "display_data"
    },
    {
     "name": "stdout",
     "output_type": "stream",
     "text": [
      "kNearest Neighbour\n",
      "Accuracy\n",
      "0.9512195121951219\n",
      "39\n",
      "Confusion matrix\n",
      "[[1 0 0 ... 0 0 0]\n",
      " [0 1 0 ... 0 0 0]\n",
      " [0 0 0 ... 0 0 0]\n",
      " ...\n",
      " [0 0 0 ... 1 0 0]\n",
      " [0 0 0 ... 0 1 0]\n",
      " [0 0 0 ... 0 0 1]]\n",
      "[108 108 108 114]\n",
      "4\n",
      "4\n"
     ]
    },
    {
     "name": "stderr",
     "output_type": "stream",
     "text": [
      "/opt/anaconda3/lib/python3.9/site-packages/sklearn/base.py:450: UserWarning: X does not have valid feature names, but KNeighborsClassifier was fitted with feature names\n",
      "  warnings.warn(\n"
     ]
    },
    {
     "data": {
      "image/png": "[encoded data removed]",
      "text/plain": [
       "<Figure size 432x288 with 1 Axes>"
      ]
     },
     "metadata": {
      "needs_background": "light"
     },
     "output_type": "display_data"
    },
    {
     "name": "stdout",
     "output_type": "stream",
     "text": [
      "kNearest Neighbour\n",
      "Accuracy\n",
      "0.9512195121951219\n",
      "39\n",
      "Confusion matrix\n",
      "[[1 0 0 ... 0 0 0]\n",
      " [0 1 0 ... 0 0 0]\n",
      " [0 0 0 ... 0 0 0]\n",
      " ...\n",
      " [0 0 0 ... 1 0 0]\n",
      " [0 0 0 ... 0 1 0]\n",
      " [0 0 0 ... 0 0 1]]\n",
      "[108 108 108 114]\n",
      "4\n",
      "4\n"
     ]
    },
    {
     "name": "stderr",
     "output_type": "stream",
     "text": [
      "/opt/anaconda3/lib/python3.9/site-packages/sklearn/base.py:450: UserWarning: X does not have valid feature names, but KNeighborsClassifier was fitted with feature names\n",
      "  warnings.warn(\n"
     ]
    },
    {
     "data": {
      "image/png": "[encoded data removed]",
      "text/plain": [
       "<Figure size 432x288 with 1 Axes>"
      ]
     },
     "metadata": {
      "needs_background": "light"
     },
     "output_type": "display_data"
    },
    {
     "name": "stdout",
     "output_type": "stream",
     "text": [
      "kNearest Neighbour\n",
      "Accuracy\n",
      "0.9512195121951219\n",
      "39\n",
      "Confusion matrix\n",
      "[[1 0 0 ... 0 0 0]\n",
      " [0 1 0 ... 0 0 0]\n",
      " [0 0 0 ... 0 0 0]\n",
      " ...\n",
      " [0 0 0 ... 1 0 0]\n",
      " [0 0 0 ... 0 1 0]\n",
      " [0 0 0 ... 0 0 1]]\n",
      "[108 108 108 114]\n",
      "4\n",
      "4\n"
     ]
    },
    {
     "name": "stderr",
     "output_type": "stream",
     "text": [
      "/opt/anaconda3/lib/python3.9/site-packages/sklearn/base.py:450: UserWarning: X does not have valid feature names, but KNeighborsClassifier was fitted with feature names\n",
      "  warnings.warn(\n"
     ]
    },
    {
     "data": {
      "image/png": "[encoded data removed]",
      "text/plain": [
       "<Figure size 432x288 with 1 Axes>"
      ]
     },
     "metadata": {
      "needs_background": "light"
     },
     "output_type": "display_data"
    },
    {
     "name": "stderr",
     "output_type": "stream",
     "text": [
      "2022-08-27 19:20:02.066 python[72984:4128491] Warning: Expected min height of view: (<NSButton: 0x7fa2327bb140>) to be less than or equal to 30 but got a height of 32.000000. This error will be logged once per view in violation.\n",
      "2022-08-27 19:20:02.069 python[72984:4128491] Warning: Expected min height of view: (<NSButton: 0x7fa2327b74f0>) to be less than or equal to 30 but got a height of 32.000000. This error will be logged once per view in violation.\n",
      "2022-08-27 19:20:04.266 python[72984:4128491] Warning: Expected min height of view: (<NSButton: 0x7fa224745bb0>) to be less than or equal to 30 but got a height of 32.000000. This error will be logged once per view in violation.\n",
      "2022-08-27 19:20:04.270 python[72984:4128491] Warning: Expected min height of view: (<NSButton: 0x7fa22473e1b0>) to be less than or equal to 30 but got a height of 32.000000. This error will be logged once per view in violation.\n"
     ]
    },
    {
     "name": "stdout",
     "output_type": "stream",
     "text": [
      "Decision Tree\n",
      "Accuracy\n",
      "0.9512195121951219\n",
      "39\n",
      "Confusion matrix\n",
      "[[1 0 0 ... 0 0 0]\n",
      " [0 1 0 ... 0 0 0]\n",
      " [0 0 1 ... 0 0 0]\n",
      " ...\n",
      " [0 0 0 ... 1 0 0]\n",
      " [0 0 0 ... 0 1 0]\n",
      " [0 0 0 ... 0 0 1]]\n",
      "['continuous_feel_of_urine', 'brittle_nails', 'blister', 'excessive_hunger', 'Select Here']\n",
      "[1, 1, 1, 1, 0]\n"
     ]
    },
    {
     "name": "stderr",
     "output_type": "stream",
     "text": [
      "/opt/anaconda3/lib/python3.9/site-packages/sklearn/base.py:450: UserWarning: X does not have valid feature names, but DecisionTreeClassifier was fitted with feature names\n",
      "  warnings.warn(\n"
     ]
    },
    {
     "data": {
      "image/png": "[encoded data removed]",
      "text/plain": [
       "<Figure size 432x288 with 1 Axes>"
      ]
     },
     "metadata": {
      "needs_background": "light"
     },
     "output_type": "display_data"
    },
    {
     "name": "stdout",
     "output_type": "stream",
     "text": [
      "[114 114 114 114 114 114 114 114 120 120 120 120 120 120 120 120]\n",
      "16\n",
      "16\n"
     ]
    },
    {
     "data": {
      "image/png": "[encoded data removed]",
      "text/plain": [
       "<Figure size 432x288 with 1 Axes>"
      ]
     },
     "metadata": {
      "needs_background": "light"
     },
     "output_type": "display_data"
    },
    {
     "name": "stdout",
     "output_type": "stream",
     "text": [
      "Random Forest\n",
      "Accuracy\n",
      "0.9512195121951219\n",
      "39\n",
      "Confusion matrix\n",
      "[[1 0 0 ... 0 0 0]\n",
      " [0 1 0 ... 0 0 0]\n",
      " [0 0 0 ... 0 0 0]\n",
      " ...\n",
      " [0 0 0 ... 1 0 0]\n",
      " [0 0 0 ... 0 1 0]\n",
      " [0 0 0 ... 0 0 1]]\n",
      "[108 114 102 114]\n",
      "4\n",
      "4\n"
     ]
    },
    {
     "name": "stderr",
     "output_type": "stream",
     "text": [
      "/opt/anaconda3/lib/python3.9/site-packages/sklearn/base.py:450: UserWarning: X does not have valid feature names, but RandomForestClassifier was fitted with feature names\n",
      "  warnings.warn(\n"
     ]
    },
    {
     "data": {
      "image/png": "[encoded data removed]",
      "text/plain": [
       "<Figure size 432x288 with 1 Axes>"
      ]
     },
     "metadata": {
      "needs_background": "light"
     },
     "output_type": "display_data"
    },
    {
     "name": "stdout",
     "output_type": "stream",
     "text": [
      "Naive Bayes\n",
      "Accuracy\n",
      "0.9512195121951219\n",
      "39\n",
      "Confusion matrix\n",
      "[[1 0 0 ... 0 0 0]\n",
      " [0 1 0 ... 0 0 0]\n",
      " [0 0 1 ... 0 0 0]\n",
      " ...\n",
      " [0 0 0 ... 1 0 0]\n",
      " [0 0 0 ... 0 1 0]\n",
      " [0 0 0 ... 0 0 1]]\n",
      "[108 114 102 114]\n",
      "4\n",
      "4\n"
     ]
    },
    {
     "name": "stderr",
     "output_type": "stream",
     "text": [
      "/opt/anaconda3/lib/python3.9/site-packages/sklearn/base.py:450: UserWarning: X does not have valid feature names, but GaussianNB was fitted with feature names\n",
      "  warnings.warn(\n"
     ]
    },
    {
     "data": {
      "image/png": "[encoded data removed]",
      "text/plain": [
       "<Figure size 432x288 with 1 Axes>"
      ]
     },
     "metadata": {
      "needs_background": "light"
     },
     "output_type": "display_data"
    },
    {
     "name": "stdout",
     "output_type": "stream",
     "text": [
      "kNearest Neighbour\n",
      "Accuracy\n",
      "0.9512195121951219\n",
      "39\n",
      "Confusion matrix\n",
      "[[1 0 0 ... 0 0 0]\n",
      " [0 1 0 ... 0 0 0]\n",
      " [0 0 0 ... 0 0 0]\n",
      " ...\n",
      " [0 0 0 ... 1 0 0]\n",
      " [0 0 0 ... 0 1 0]\n",
      " [0 0 0 ... 0 0 1]]\n",
      "[108 114 102 114]\n",
      "4\n",
      "4\n"
     ]
    },
    {
     "name": "stderr",
     "output_type": "stream",
     "text": [
      "/opt/anaconda3/lib/python3.9/site-packages/sklearn/base.py:450: UserWarning: X does not have valid feature names, but KNeighborsClassifier was fitted with feature names\n",
      "  warnings.warn(\n"
     ]
    },
    {
     "data": {
      "image/png": "[encoded data removed]",
      "text/plain": [
       "<Figure size 432x288 with 1 Axes>"
      ]
     },
     "metadata": {
      "needs_background": "light"
     },
     "output_type": "display_data"
    },
    {
     "name": "stdout",
     "output_type": "stream",
     "text": [
      "Decision Tree\n",
      "Accuracy\n",
      "0.9512195121951219\n",
      "39\n",
      "Confusion matrix\n",
      "[[1 0 0 ... 0 0 0]\n",
      " [0 1 0 ... 0 0 0]\n",
      " [0 0 1 ... 0 0 0]\n",
      " ...\n",
      " [0 0 0 ... 1 0 0]\n",
      " [0 0 0 ... 0 1 0]\n",
      " [0 0 0 ... 0 0 1]]\n",
      "['depression', 'dizziness', 'Select Here', 'Select Here', 'Select Here']\n",
      "[1, 1, 0, 0, 0]\n"
     ]
    },
    {
     "name": "stderr",
     "output_type": "stream",
     "text": [
      "/opt/anaconda3/lib/python3.9/site-packages/sklearn/base.py:450: UserWarning: X does not have valid feature names, but DecisionTreeClassifier was fitted with feature names\n",
      "  warnings.warn(\n"
     ]
    },
    {
     "data": {
      "image/png": "[encoded data removed]",
      "text/plain": [
       "<Figure size 432x288 with 1 Axes>"
      ]
     },
     "metadata": {
      "needs_background": "light"
     },
     "output_type": "display_data"
    },
    {
     "name": "stdout",
     "output_type": "stream",
     "text": [
      "[114 114 114 114 114 114 114 114 120 120 120 120 120 120 120 120]\n",
      "16\n",
      "16\n"
     ]
    },
    {
     "data": {
      "image/png": "[encoded data removed]",
      "text/plain": [
       "<Figure size 432x288 with 1 Axes>"
      ]
     },
     "metadata": {
      "needs_background": "light"
     },
     "output_type": "display_data"
    },
    {
     "name": "stdout",
     "output_type": "stream",
     "text": [
      "Random Forest\n",
      "Accuracy\n",
      "0.9512195121951219\n",
      "39\n",
      "Confusion matrix\n",
      "[[1 0 0 ... 0 0 0]\n",
      " [0 1 0 ... 0 0 0]\n",
      " [0 0 1 ... 0 0 0]\n",
      " ...\n",
      " [0 0 0 ... 1 0 0]\n",
      " [0 0 0 ... 0 1 0]\n",
      " [0 0 0 ... 0 0 1]]\n",
      "[108 114 102 114]\n",
      "4\n",
      "4\n"
     ]
    },
    {
     "name": "stderr",
     "output_type": "stream",
     "text": [
      "/opt/anaconda3/lib/python3.9/site-packages/sklearn/base.py:450: UserWarning: X does not have valid feature names, but RandomForestClassifier was fitted with feature names\n",
      "  warnings.warn(\n"
     ]
    },
    {
     "data": {
      "image/png": "[encoded data removed]",
      "text/plain": [
       "<Figure size 432x288 with 1 Axes>"
      ]
     },
     "metadata": {
      "needs_background": "light"
     },
     "output_type": "display_data"
    },
    {
     "name": "stdout",
     "output_type": "stream",
     "text": [
      "Naive Bayes\n",
      "Accuracy\n",
      "0.9512195121951219\n",
      "39\n",
      "Confusion matrix\n",
      "[[1 0 0 ... 0 0 0]\n",
      " [0 1 0 ... 0 0 0]\n",
      " [0 0 1 ... 0 0 0]\n",
      " ...\n",
      " [0 0 0 ... 1 0 0]\n",
      " [0 0 0 ... 0 1 0]\n",
      " [0 0 0 ... 0 0 1]]\n",
      "[108 114 102 114]\n",
      "4\n",
      "4\n"
     ]
    },
    {
     "name": "stderr",
     "output_type": "stream",
     "text": [
      "/opt/anaconda3/lib/python3.9/site-packages/sklearn/base.py:450: UserWarning: X does not have valid feature names, but GaussianNB was fitted with feature names\n",
      "  warnings.warn(\n"
     ]
    },
    {
     "data": {
      "image/png": "[encoded data removed]",
      "text/plain": [
       "<Figure size 432x288 with 1 Axes>"
      ]
     },
     "metadata": {
      "needs_background": "light"
     },
     "output_type": "display_data"
    },
    {
     "name": "stdout",
     "output_type": "stream",
     "text": [
      "kNearest Neighbour\n",
      "Accuracy\n",
      "0.9512195121951219\n",
      "39\n",
      "Confusion matrix\n",
      "[[1 0 0 ... 0 0 0]\n",
      " [0 1 0 ... 0 0 0]\n",
      " [0 0 0 ... 0 0 0]\n",
      " ...\n",
      " [0 0 0 ... 1 0 0]\n",
      " [0 0 0 ... 0 1 0]\n",
      " [0 0 0 ... 0 0 1]]\n",
      "[108 114 102 114]\n",
      "4\n",
      "4\n"
     ]
    },
    {
     "name": "stderr",
     "output_type": "stream",
     "text": [
      "/opt/anaconda3/lib/python3.9/site-packages/sklearn/base.py:450: UserWarning: X does not have valid feature names, but KNeighborsClassifier was fitted with feature names\n",
      "  warnings.warn(\n"
     ]
    },
    {
     "data": {
      "image/png": "[encoded data removed]",
      "text/plain": [
       "<Figure size 432x288 with 1 Axes>"
      ]
     },
     "metadata": {
      "needs_background": "light"
     },
     "output_type": "display_data"
    },
    {
     "name": "stderr",
     "output_type": "stream",
     "text": [
      "2022-08-27 19:40:28.851 python[72984:4128491] Warning: Expected min height of view: (<NSButton: 0x7fa2327abef0>) to be less than or equal to 30 but got a height of 32.000000. This error will be logged once per view in violation.\n",
      "2022-08-27 19:40:28.854 python[72984:4128491] Warning: Expected min height of view: (<NSButton: 0x7fa2328afba0>) to be less than or equal to 30 but got a height of 32.000000. This error will be logged once per view in violation.\n",
      "2022-08-27 19:40:30.576 python[72984:4128491] Warning: Expected min height of view: (<NSButton: 0x7fa232c4bb70>) to be less than or equal to 30 but got a height of 32.000000. This error will be logged once per view in violation.\n",
      "2022-08-27 19:40:30.580 python[72984:4128491] Warning: Expected min height of view: (<NSButton: 0x7fa232c348d0>) to be less than or equal to 30 but got a height of 32.000000. This error will be logged once per view in violation.\n"
     ]
    }
   ],
   "source": [
    "#calling this function because the application is ready to run\n",
    "root.mainloop()"
   ]
  },
  {
   "cell_type": "code",
   "execution_count": null,
   "metadata": {},
   "outputs": [],
   "source": []
  },
  {
   "cell_type": "code",
   "execution_count": null,
   "metadata": {},
   "outputs": [],
   "source": []
  }
 ],
 "metadata": {
  "kernelspec": {
   "display_name": "Python 3 (ipykernel)",
   "language": "python",
   "name": "python3"
  },
  "language_info": {
   "codemirror_mode": {
    "name": "ipython",
    "version": 3
   },
   "file_extension": ".py",
   "mimetype": "text/x-python",
   "name": "python",
   "nbconvert_exporter": "python",
   "pygments_lexer": "ipython3",
   "version": "3.9.12"
  }
 },
 "nbformat": 4,
 "nbformat_minor": 2
}
